{
 "cells": [
  {
   "cell_type": "code",
   "execution_count": 158,
   "id": "40ef73ed",
   "metadata": {
    "scrolled": true
   },
   "outputs": [
    {
     "data": {
      "application/vnd.jupyter.widget-view+json": {
       "model_id": "6df19954c9f546109ce4ac0ea6582374",
       "version_major": 2,
       "version_minor": 0
      },
      "text/plain": [
       "NGLWidget()"
      ]
     },
     "metadata": {},
     "output_type": "display_data"
    }
   ],
   "source": [
    "import nglview as nv\n",
    "view = nv.show_structure_file(\"antibody.pdb\")\n",
    "view"
   ]
  },
  {
   "cell_type": "code",
   "execution_count": 154,
   "id": "19cb6ddb",
   "metadata": {},
   "outputs": [
    {
     "name": "stdout",
     "output_type": "stream",
     "text": [
      "<Model id=0>\n",
      "<Chain id=A> A <class 'str'>\n",
      "<Chain id=B> B <class 'str'>\n",
      "<Chain id=C> C <class 'str'>\n",
      "<Chain id=D> D <class 'str'>\n",
      "<Chain id=E> E <class 'str'>\n",
      "<Chain id=F> F <class 'str'>\n"
     ]
    }
   ],
   "source": [
    "#Select Antibody\n",
    "\n",
    "from Bio.PDB import PDBParser, PDBIO, Select\n",
    "\n",
    "\n",
    "\n",
    "parser=PDBParser(QUIET=True)\n",
    "\n",
    "\n",
    "structure_1 = parser.get_structure('test', '1ahw.pdb')\n",
    "\n",
    "\n",
    "\n",
    "for model in structure_1:\n",
    "    \n",
    "    print(model)\n",
    "    \n",
    "    for chain in model:\n",
    "        \n",
    "        print(chain, chain.get_id(), type(chain.get_id()))\n",
    "        \n",
    "        class ChainSelect(Select):\n",
    "                    def accept_chain(self, chain):\n",
    "                        if chain.get_id() == 'A':\n",
    "                            return True\n",
    "                        if chain.get_id() == 'B':\n",
    "                            return True\n",
    "                        else:\n",
    "                            return False\n",
    "        \n",
    "io = PDBIO()\n",
    "io.set_structure(structure_1)\n",
    "io.save(\"antibody.pdb\" , ChainSelect())"
   ]
  },
  {
   "cell_type": "code",
   "execution_count": 153,
   "id": "279ac4f2",
   "metadata": {
    "scrolled": true
   },
   "outputs": [
    {
     "name": "stdout",
     "output_type": "stream",
     "text": [
      "<Model id=0>\n",
      "<Chain id=A> A <class 'str'>\n",
      "<Chain id=B> B <class 'str'>\n",
      "<Chain id=C> C <class 'str'>\n",
      "<Chain id=D> D <class 'str'>\n",
      "<Chain id=E> E <class 'str'>\n",
      "<Chain id=F> F <class 'str'>\n"
     ]
    }
   ],
   "source": [
    "#Select antigen\n",
    "\n",
    "\n",
    "from Bio.PDB import PDBParser, PDBIO, Select\n",
    "\n",
    "\n",
    "\n",
    "parser=PDBParser(QUIET=True)\n",
    "\n",
    "\n",
    "structure_1 = parser.get_structure('test', '1ahw.pdb')\n",
    "\n",
    "\n",
    "\n",
    "for model in structure_1:\n",
    "    \n",
    "    print(model)\n",
    "    \n",
    "    for chain in model:\n",
    "        \n",
    "        print(chain, chain.get_id(), type(chain.get_id()))\n",
    "        \n",
    "        class ChainSelect(Select):\n",
    "                    def accept_chain(self, chain):\n",
    "                        if chain.get_id() == 'C':\n",
    "                            return True\n",
    "                        else:\n",
    "                            return False\n",
    "        \n",
    "io = PDBIO()\n",
    "io.set_structure(structure_1)\n",
    "io.save(\"antigen.pdb\" , ChainSelect())"
   ]
  }
 ],
 "metadata": {
  "kernelspec": {
   "display_name": "Python 3 (ipykernel)",
   "language": "python",
   "name": "python3"
  },
  "language_info": {
   "codemirror_mode": {
    "name": "ipython",
    "version": 3
   },
   "file_extension": ".py",
   "mimetype": "text/x-python",
   "name": "python",
   "nbconvert_exporter": "python",
   "pygments_lexer": "ipython3",
   "version": "3.7.13"
  }
 },
 "nbformat": 4,
 "nbformat_minor": 5
}
