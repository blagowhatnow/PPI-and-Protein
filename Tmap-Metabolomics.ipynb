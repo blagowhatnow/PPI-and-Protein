{
 "cells": [
  {
   "cell_type": "markdown",
   "id": "fd2690fd",
   "metadata": {},
   "source": [
    "<h2> Metabolomic Data using TMap Features <h2>"
   ]
  },
  {
   "cell_type": "code",
   "execution_count": 9,
   "id": "44e218b1",
   "metadata": {},
   "outputs": [],
   "source": [
    "#In your env, conda install -c conda-forge networkx=2.5\n",
    "#Data source : https://www.kaggle.com/datasets/sannanybacka/urinary-nmr-metabolomics-from-ibs-patients\n",
    "\n",
    "import pandas as pd\n",
    "import numpy as np\n",
    "from sklearn.preprocessing import MinMaxScaler, StandardScaler\n",
    "from sklearn import datasets\n",
    "from sklearn.cluster import DBSCAN\n",
    "from tmap.tda import mapper, Filter\n",
    "from tmap.tda.cover import Cover\n",
    "from tmap.tda.plot import show, Color,tm_plot,vis_progressX\n",
    "from sklearn import preprocessing "
   ]
  },
  {
   "cell_type": "code",
   "execution_count": 10,
   "id": "bb3f4f8e",
   "metadata": {},
   "outputs": [],
   "source": [
    "import warnings\n",
    "warnings.filterwarnings(\"ignore\")\n",
    "\n",
    "df=pd.read_excel(\"Metabolite database.xlsx\")"
   ]
  },
  {
   "cell_type": "code",
   "execution_count": 11,
   "id": "c1468762",
   "metadata": {},
   "outputs": [
    {
     "data": {
      "text/html": [
       "<div>\n",
       "<style scoped>\n",
       "    .dataframe tbody tr th:only-of-type {\n",
       "        vertical-align: middle;\n",
       "    }\n",
       "\n",
       "    .dataframe tbody tr th {\n",
       "        vertical-align: top;\n",
       "    }\n",
       "\n",
       "    .dataframe thead th {\n",
       "        text-align: right;\n",
       "    }\n",
       "</style>\n",
       "<table border=\"1\" class=\"dataframe\">\n",
       "  <thead>\n",
       "    <tr style=\"text-align: right;\">\n",
       "      <th></th>\n",
       "      <th>subject</th>\n",
       "      <th>visit</th>\n",
       "      <th>diet</th>\n",
       "      <th>response</th>\n",
       "      <th>14.8437</th>\n",
       "      <th>14.7717</th>\n",
       "      <th>14.7393</th>\n",
       "      <th>14.6931</th>\n",
       "      <th>14.6535</th>\n",
       "      <th>14.6166</th>\n",
       "      <th>...</th>\n",
       "      <th>-4.77425</th>\n",
       "      <th>-4.85038</th>\n",
       "      <th>-4.85932</th>\n",
       "      <th>-4.90839</th>\n",
       "      <th>-4.93246</th>\n",
       "      <th>-4.9745</th>\n",
       "      <th>-5.01424</th>\n",
       "      <th>-5.05299</th>\n",
       "      <th>-5.09709</th>\n",
       "      <th>-5.11803</th>\n",
       "    </tr>\n",
       "  </thead>\n",
       "  <tbody>\n",
       "    <tr>\n",
       "      <th>0</th>\n",
       "      <td>A</td>\n",
       "      <td>1</td>\n",
       "      <td>low-FODMAP</td>\n",
       "      <td>Non-responder</td>\n",
       "      <td>57739200</td>\n",
       "      <td>24936400</td>\n",
       "      <td>21974700</td>\n",
       "      <td>13313200</td>\n",
       "      <td>9027890.0</td>\n",
       "      <td>6887370</td>\n",
       "      <td>...</td>\n",
       "      <td>-812107.0</td>\n",
       "      <td>-107719.0</td>\n",
       "      <td>-289258.0</td>\n",
       "      <td>547306.0</td>\n",
       "      <td>1858110.0</td>\n",
       "      <td>4077610</td>\n",
       "      <td>6638960</td>\n",
       "      <td>11334500</td>\n",
       "      <td>15443200.0</td>\n",
       "      <td>42953800</td>\n",
       "    </tr>\n",
       "    <tr>\n",
       "      <th>1</th>\n",
       "      <td>B</td>\n",
       "      <td>1</td>\n",
       "      <td>low-FODMAP</td>\n",
       "      <td>Responder</td>\n",
       "      <td>41568700</td>\n",
       "      <td>18008500</td>\n",
       "      <td>15648600</td>\n",
       "      <td>10222800</td>\n",
       "      <td>6577670.0</td>\n",
       "      <td>3964340</td>\n",
       "      <td>...</td>\n",
       "      <td>-535185.0</td>\n",
       "      <td>-957304.0</td>\n",
       "      <td>240234.0</td>\n",
       "      <td>-157354.0</td>\n",
       "      <td>1857310.0</td>\n",
       "      <td>2434920</td>\n",
       "      <td>5020330</td>\n",
       "      <td>7017350</td>\n",
       "      <td>9121000.0</td>\n",
       "      <td>28177000</td>\n",
       "    </tr>\n",
       "    <tr>\n",
       "      <th>2</th>\n",
       "      <td>C</td>\n",
       "      <td>1</td>\n",
       "      <td>low-FODMAP</td>\n",
       "      <td>Responder</td>\n",
       "      <td>33742700</td>\n",
       "      <td>14644200</td>\n",
       "      <td>12036900</td>\n",
       "      <td>7804920</td>\n",
       "      <td>4705410.0</td>\n",
       "      <td>4649260</td>\n",
       "      <td>...</td>\n",
       "      <td>1788840.0</td>\n",
       "      <td>1212120.0</td>\n",
       "      <td>1475820.0</td>\n",
       "      <td>1918470.0</td>\n",
       "      <td>2965390.0</td>\n",
       "      <td>4293840</td>\n",
       "      <td>6502570</td>\n",
       "      <td>9835870</td>\n",
       "      <td>11661700.0</td>\n",
       "      <td>33057800</td>\n",
       "    </tr>\n",
       "    <tr>\n",
       "      <th>3</th>\n",
       "      <td>D</td>\n",
       "      <td>1</td>\n",
       "      <td>low-FODMAP</td>\n",
       "      <td>Responder</td>\n",
       "      <td>37675200</td>\n",
       "      <td>15741500</td>\n",
       "      <td>14442900</td>\n",
       "      <td>9398800</td>\n",
       "      <td>6625200.0</td>\n",
       "      <td>4767140</td>\n",
       "      <td>...</td>\n",
       "      <td>-1649860.0</td>\n",
       "      <td>-723272.0</td>\n",
       "      <td>-1333870.0</td>\n",
       "      <td>101807.0</td>\n",
       "      <td>-153581.0</td>\n",
       "      <td>1818750</td>\n",
       "      <td>4368540</td>\n",
       "      <td>7129420</td>\n",
       "      <td>8284590.0</td>\n",
       "      <td>26361200</td>\n",
       "    </tr>\n",
       "    <tr>\n",
       "      <th>4</th>\n",
       "      <td>E</td>\n",
       "      <td>1</td>\n",
       "      <td>low-FODMAP</td>\n",
       "      <td>Non-responder</td>\n",
       "      <td>30583500</td>\n",
       "      <td>13315700</td>\n",
       "      <td>11548100</td>\n",
       "      <td>6906810</td>\n",
       "      <td>4412150.0</td>\n",
       "      <td>3499140</td>\n",
       "      <td>...</td>\n",
       "      <td>1730430.0</td>\n",
       "      <td>483134.0</td>\n",
       "      <td>1670550.0</td>\n",
       "      <td>1206250.0</td>\n",
       "      <td>1808100.0</td>\n",
       "      <td>4333530</td>\n",
       "      <td>5381150</td>\n",
       "      <td>9487430</td>\n",
       "      <td>10849200.0</td>\n",
       "      <td>29834400</td>\n",
       "    </tr>\n",
       "  </tbody>\n",
       "</table>\n",
       "<p>5 rows × 503 columns</p>\n",
       "</div>"
      ],
      "text/plain": [
       "  subject  visit        diet       response   14.8437   14.7717   14.7393   \n",
       "0       A      1  low-FODMAP  Non-responder  57739200  24936400  21974700  \\\n",
       "1       B      1  low-FODMAP      Responder  41568700  18008500  15648600   \n",
       "2       C      1  low-FODMAP      Responder  33742700  14644200  12036900   \n",
       "3       D      1  low-FODMAP      Responder  37675200  15741500  14442900   \n",
       "4       E      1  low-FODMAP  Non-responder  30583500  13315700  11548100   \n",
       "\n",
       "    14.6931    14.6535  14.6166  ...   -4.77425   -4.85038   -4.85932   \n",
       "0  13313200  9027890.0  6887370  ...  -812107.0  -107719.0  -289258.0  \\\n",
       "1  10222800  6577670.0  3964340  ...  -535185.0  -957304.0   240234.0   \n",
       "2   7804920  4705410.0  4649260  ...  1788840.0  1212120.0  1475820.0   \n",
       "3   9398800  6625200.0  4767140  ... -1649860.0  -723272.0 -1333870.0   \n",
       "4   6906810  4412150.0  3499140  ...  1730430.0   483134.0  1670550.0   \n",
       "\n",
       "    -4.90839   -4.93246  -4.9745  -5.01424  -5.05299    -5.09709  -5.11803  \n",
       "0   547306.0  1858110.0  4077610   6638960  11334500  15443200.0  42953800  \n",
       "1  -157354.0  1857310.0  2434920   5020330   7017350   9121000.0  28177000  \n",
       "2  1918470.0  2965390.0  4293840   6502570   9835870  11661700.0  33057800  \n",
       "3   101807.0  -153581.0  1818750   4368540   7129420   8284590.0  26361200  \n",
       "4  1206250.0  1808100.0  4333530   5381150   9487430  10849200.0  29834400  \n",
       "\n",
       "[5 rows x 503 columns]"
      ]
     },
     "execution_count": 11,
     "metadata": {},
     "output_type": "execute_result"
    }
   ],
   "source": [
    "df.head()"
   ]
  },
  {
   "cell_type": "code",
   "execution_count": 12,
   "id": "dda05e0f",
   "metadata": {},
   "outputs": [],
   "source": [
    "df_spectras=df.drop(['visit','subject','diet','response'], axis=1)\n",
    "  \n",
    "# label_encoder object knows   \n",
    "label_encoder = preprocessing.LabelEncoder() \n",
    "  \n",
    "# Encode labels in y. \n",
    "y = label_encoder.fit_transform(df['response']) \n",
    "X=np.array(df_spectras)"
   ]
  },
  {
   "cell_type": "code",
   "execution_count": 13,
   "id": "cc4ab4db",
   "metadata": {},
   "outputs": [
    {
     "data": {
      "text/plain": [
       "[<matplotlib.lines.Line2D at 0x7fbc3bde41f0>]"
      ]
     },
     "execution_count": 13,
     "metadata": {},
     "output_type": "execute_result"
    },
    {
     "data": {
      "image/png": "[encoded data removed]",
      "text/plain": [
       "<Figure size 640x480 with 1 Axes>"
      ]
     },
     "metadata": {},
     "output_type": "display_data"
    }
   ],
   "source": [
    "#Plot a sample spectra\n",
    "\n",
    "import matplotlib.pyplot as plt\n",
    "plt.plot(np.array(df_spectras.columns), np.array(df_spectras.iloc[0,:])) # Plotting spectra for the first row"
   ]
  },
  {
   "cell_type": "markdown",
   "id": "db74cbc4",
   "metadata": {},
   "source": [
    "<H3> Perform DBScan to identify optimal number of clusters for TDA <H3>"
   ]
  },
  {
   "cell_type": "code",
   "execution_count": 12,
   "id": "c1a678fe",
   "metadata": {},
   "outputs": [
    {
     "name": "stdout",
     "output_type": "stream",
     "text": [
      "Filtering by MDS.\n",
      "...calculate Filter(which used to create cover) using the provided euclidean lens.\n",
      "Filtering has been completed.\n"
     ]
    }
   ],
   "source": [
    "# Initialize DBSCAN clusterer\n",
    "tm = mapper.Mapper(verbose=1)\n",
    "# Step2. Projection\n",
    "lens = [Filter.MDS(components=[0, 1],random_state=100)]\n",
    "projected_X = tm.filter(X, lens=lens)\n",
    "projected_X = MinMaxScaler().fit_transform(projected_X)\n",
    "clusterer = DBSCAN(eps=0.085, min_samples=1) # Adjust hyperparams for better results\n",
    "\n",
    "# Fit DBSCAN to the projected data\n",
    "cluster_labels = clusterer.fit_predict(projected_X)"
   ]
  },
  {
   "cell_type": "code",
   "execution_count": 47,
   "id": "592b912e",
   "metadata": {},
   "outputs": [
    {
     "data": {
      "text/plain": [
       "array([ 0,  1,  2,  2,  2,  3,  2,  4,  2,  2,  5,  2,  2,  2,  2,  1,  2,\n",
       "        2,  1,  2,  3,  2,  2,  4,  2,  2,  2,  2,  2,  2,  2,  1,  1,  2,\n",
       "        0,  2,  2,  2,  2,  2,  2,  2,  2,  5,  2,  2,  2,  2,  2,  2,  6,\n",
       "        7,  2,  2,  2,  2,  2,  1,  2,  2,  2,  6,  2,  2,  2,  2,  2,  2,\n",
       "        2,  2,  2,  2,  2,  2,  2,  2,  8,  2,  2,  1,  2,  4,  2,  2,  2,\n",
       "        9,  2,  2,  2,  2,  1,  2, 10,  2,  2,  2,  2,  2, 11,  2,  2, 12,\n",
       "        2,  2,  2,  2,  2,  2,  2,  2,  2,  2])"
      ]
     },
     "execution_count": 47,
     "metadata": {},
     "output_type": "execute_result"
    }
   ],
   "source": [
    "cluster_labels"
   ]
  },
  {
   "cell_type": "code",
   "execution_count": 37,
   "id": "34eae672",
   "metadata": {},
   "outputs": [
    {
     "name": "stdout",
     "output_type": "stream",
     "text": [
      "Cluster 0: [0, 34]\n",
      "Cluster 1: [1, 15, 18, 31, 32, 57, 79, 90]\n",
      "Cluster 2: [2, 3, 4, 6, 8, 9, 11, 12, 13, 14, 16, 17, 19, 21, 22, 24, 25, 26, 27, 28, 29, 30, 33, 35, 36, 37, 38, 39, 40, 41, 42, 44, 45, 46, 47, 48, 49, 52, 53, 54, 55, 56, 58, 59, 60, 62, 63, 64, 65, 66, 67, 68, 69, 70, 71, 72, 73, 74, 75, 77, 78, 80, 82, 83, 84, 86, 87, 88, 89, 91, 93, 94, 95, 96, 97, 99, 100, 102, 103, 104, 105, 106, 107, 108, 109, 110, 111]\n",
      "Cluster 3: [5, 20]\n",
      "Cluster 4: [7, 23, 81]\n",
      "Cluster 5: [10, 43]\n",
      "Cluster 6: [50, 61]\n",
      "Cluster 7: [51]\n",
      "Cluster 8: [76]\n",
      "Cluster 9: [85]\n",
      "Cluster 10: [92]\n",
      "Cluster 11: [98]\n",
      "Cluster 12: [101]\n"
     ]
    }
   ],
   "source": [
    "from collections import defaultdict\n",
    "\n",
    "# Group data points by their DBSCAN cluster labels\n",
    "clusters = defaultdict(list)\n",
    "\n",
    "# Add each point (or its index) to the corresponding cluster\n",
    "for idx, label in enumerate(cluster_labels):\n",
    "    clusters[label].append(idx)\n",
    "\n",
    "# Convert to a list of lists\n",
    "cluster_lists = list(clusters.values())\n",
    "\n",
    "# Print out the clusters\n",
    "for i, cluster in enumerate(cluster_lists):\n",
    "    print(f\"Cluster {i}: {cluster}\")"
   ]
  },
  {
   "cell_type": "code",
   "execution_count": 38,
   "id": "b66172b2",
   "metadata": {},
   "outputs": [
    {
     "name": "stdout",
     "output_type": "stream",
     "text": [
      "Cluster 0: [0, 34]\n",
      "Cluster 1: [1, 15, 18, 31, 32, 57, 79, 90]\n",
      "Cluster 2: [2, 3, 4, 6, 8, 9, 11, 12, 13, 14, 16, 17, 19, 21, 22, 24, 25, 26, 27, 28, 29, 30, 33, 35, 36, 37, 38, 39, 40, 41, 42, 44, 45, 46, 47, 48, 49, 52, 53, 54, 55, 56, 58, 59, 60, 62, 63, 64, 65, 66, 67, 68, 69, 70, 71, 72, 73, 74, 75, 77, 78, 80, 82, 83, 84, 86, 87, 88, 89, 91, 93, 94, 95, 96, 97, 99, 100, 102, 103, 104, 105, 106, 107, 108, 109, 110, 111]\n",
      "Cluster 3: [5, 20]\n",
      "Cluster 4: [7, 23, 81]\n",
      "Cluster 5: [10, 43]\n",
      "Cluster 6: [50, 61]\n",
      "Cluster 7: [51]\n",
      "Cluster 8: [76]\n",
      "Cluster 9: [85]\n",
      "Cluster 10: [92]\n",
      "Cluster 11: [98]\n",
      "Cluster 12: [101]\n"
     ]
    }
   ],
   "source": [
    "from collections import defaultdict\n",
    "\n",
    "# Group data points by their DBSCAN cluster labels\n",
    "clusters = defaultdict(list)\n",
    "\n",
    "# Add each point (or its index) to the corresponding cluster\n",
    "for idx, label in enumerate(cluster_labels):\n",
    "    clusters[label].append(idx)\n",
    "\n",
    "# Convert to a list of lists\n",
    "cluster_lists = list(clusters.values())\n",
    "\n",
    "# Print out the clusters\n",
    "for i, cluster in enumerate(cluster_lists):\n",
    "    print(f\"Cluster {i}: {cluster}\")"
   ]
  },
  {
   "cell_type": "code",
   "execution_count": 39,
   "id": "b0dc8aa4",
   "metadata": {},
   "outputs": [
    {
     "data": {
      "image/png": "[encoded data removed]",
      "text/plain": [
       "<Figure size 1000x800 with 1 Axes>"
      ]
     },
     "metadata": {},
     "output_type": "display_data"
    }
   ],
   "source": [
    "# Step 4: Define the colors for clusters\n",
    "unique_labels = set(cluster_labels)\n",
    "colors = plt.cm.get_cmap('tab20', len(unique_labels))  # Get a colormap with enough colors\n",
    "\n",
    "# Step 5: Plot the data points with different colors for each cluster\n",
    "plt.figure(figsize=(10, 8))\n",
    "\n",
    "# Plot each cluster\n",
    "for label in unique_labels:\n",
    "    # Get the points corresponding to the current cluster label\n",
    "    cluster_points = projected_X[cluster_labels == label]\n",
    "    \n",
    "    # Choose a color for the cluster\n",
    "    color = colors(label) if label != -1 else 'black'  # Use black for outliers (-1)\n",
    "    \n",
    "    # Plot the points for this cluster\n",
    "    plt.scatter(cluster_points[:, 0], cluster_points[:, 1], label=f\"Cluster {label}\", color=color, s=50, edgecolors='k')\n",
    "\n",
    "# Add labels and title\n",
    "plt.title('Clusters Visualized with DBSCAN')\n",
    "plt.xlabel('Component 1')\n",
    "plt.ylabel('Component 2')\n",
    "plt.legend()\n",
    "plt.show()"
   ]
  },
  {
   "cell_type": "markdown",
   "id": "3c928452",
   "metadata": {},
   "source": [
    "<h3> Perform TDA <h3>"
   ]
  },
  {
   "cell_type": "code",
   "execution_count": 17,
   "id": "a5899071",
   "metadata": {},
   "outputs": [
    {
     "name": "stdout",
     "output_type": "stream",
     "text": [
      "[Pipeline] ............ (step 1 of 3) Processing scaler, total=   0.0s\n",
      "[Pipeline] ....... (step 2 of 3) Processing filter_func, total=   0.2s\n",
      "[Pipeline] ............. (step 3 of 3) Processing cover, total=   0.0s\n",
      "[Pipeline] .... (step 1 of 3) Processing pullback_cover, total=   0.2s\n",
      "[Pipeline] ........ (step 2 of 3) Processing clustering, total=   0.1s\n",
      "[Pipeline] ............. (step 3 of 3) Processing nerve, total=   0.1s\n"
     ]
    },
    {
     "data": {
      "application/vnd.plotly.v1+json": {
       "config": {
        "plotlyServerURL": "https://plot.ly",
        "scrollZoom": true
       },
       "data": [
        {
         "hoverinfo": "none",
         "line": {
          "color": "#888",
          "width": 1
         },
         "mode": "lines",
         "name": "edge_trace",
         "type": "scatter",
         "uid": "8664db05-d4e0-4b44-b3ac-5112ed5796aa",
         "x": [
          2.9059998116196564,
          0.9995946767306867,
          null,
          2.9059998116196564,
          1.6686029392659831,
          null,
          2.9059998116196564,
          2.235630399857639,
          null,
          0.9995946767306867,
          1.6686029392659831,
          null,
          0.9995946767306867,
          2.235630399857639,
          null,
          6.980965497437037,
          5.735502445248489,
          null,
          6.980965497437037,
          5.540115593384977,
          null,
          6.980965497437037,
          7.00308923349975,
          null,
          5.735502445248489,
          5.540115593384977,
          null,
          5.735502445248489,
          7.00308923349975,
          null,
          -4.465903029877375,
          -4.629419328249723,
          null,
          4.490147242551583,
          4.589922008319068,
          null,
          4.490147242551583,
          3.2179439113413117,
          null,
          4.490147242551583,
          3.294884859882296,
          null,
          4.589922008319068,
          3.2179439113413117,
          null,
          4.589922008319068,
          4.78682815883665,
          null,
          4.589922008319068,
          3.294884859882296,
          null,
          4.589922008319068,
          6.094036341985033,
          null,
          4.589922008319068,
          5.8748655053233385,
          null,
          -0.19335587870727036,
          -1.816186921127436,
          null,
          -0.19335587870727036,
          -0.7291990747629953,
          null,
          3.2179439113413117,
          3.0813983459117313,
          null,
          3.2179439113413117,
          3.294884859882296,
          null,
          3.2179439113413117,
          1.792026669145165,
          null,
          3.2179439113413117,
          1.920179938203084,
          null,
          3.0813983459117313,
          1.792026669145165,
          null,
          3.0813983459117313,
          1.920179938203084,
          null,
          -2.251727199626967,
          -1.9164066135478661,
          null,
          -2.251727199626967,
          -3.3187936694377522,
          null,
          -2.251727199626967,
          -3.671728768692281,
          null,
          -2.251727199626967,
          -2.402646296681267,
          null,
          1.3401266241887577,
          0.10282096658292668,
          null,
          1.3401266241887577,
          2.8907969246808425,
          null,
          4.78682815883665,
          6.094036341985033,
          null,
          4.78682815883665,
          5.8748655053233385,
          null,
          -1.9164066135478661,
          -3.3187936694377522,
          null,
          -1.9164066135478661,
          -2.342888847201234,
          null,
          -1.9164066135478661,
          -3.671728768692281,
          null,
          5.924534064352728,
          4.1632170105238515,
          null,
          -5.037120702359279,
          -4.629419328249723,
          null,
          -5.037120702359279,
          -3.799268411323715,
          null,
          -5.037120702359279,
          -5.575264446868869,
          null,
          -4.629419328249723,
          -3.799268411323715,
          null,
          -4.629419328249723,
          -5.575264446868869,
          null,
          -5.267708079442381,
          -3.665283487146923,
          null,
          -5.267708079442381,
          -3.873267405333827,
          null,
          -5.267708079442381,
          -5.013769950857908,
          null,
          -0.08532086630612153,
          0.10282096658292668,
          null,
          -4.4163845048885175,
          -3.3367932710652486,
          null,
          -3.3187936694377522,
          -2.342888847201234,
          null,
          -3.3187936694377522,
          -3.671728768692281,
          null,
          1.6686029392659831,
          2.235630399857639,
          null,
          -3.873267405333827,
          -5.013769950857908,
          null,
          -3.799268411323715,
          -5.575264446868869,
          null,
          -1.816186921127436,
          -0.7291990747629953,
          null,
          1.792026669145165,
          1.920179938203084,
          null,
          3.5703068249726337,
          2.2995203383355136,
          null,
          0.5611591687185382,
          1.920179938203084,
          null,
          4.873080081950926,
          5.540115593384977,
          null,
          5.540115593384977,
          7.00308923349975,
          null,
          7.000520811566331,
          7.00308923349975,
          null,
          -2.402646296681267,
          -1.3266163410229888,
          null,
          -1.3274313971006215,
          0.2012537291038219,
          null,
          6.094036341985033,
          5.8748655053233385,
          null
         ],
         "y": [
          -5.195121403992765,
          -5.734229018923326,
          null,
          -5.195121403992765,
          -4.488558754660826,
          null,
          -5.195121403992765,
          -6.436207307120385,
          null,
          -5.734229018923326,
          -4.488558754660826,
          null,
          -5.734229018923326,
          -6.436207307120385,
          null,
          0.7532973561624801,
          0.8650957272857462,
          null,
          0.7532973561624801,
          -0.4487817579735346,
          null,
          0.7532973561624801,
          -0.5684106221617542,
          null,
          0.8650957272857462,
          -0.4487817579735346,
          null,
          0.8650957272857462,
          -0.5684106221617542,
          null,
          2.93638955801431,
          1.4615466040114147,
          null,
          4.459900633339527,
          3.1737108424743012,
          null,
          4.459900633339527,
          4.109719527028188,
          null,
          4.459900633339527,
          2.738899984302465,
          null,
          3.1737108424743012,
          4.109719527028188,
          null,
          3.1737108424743012,
          1.7281687270103645,
          null,
          3.1737108424743012,
          2.738899984302465,
          null,
          3.1737108424743012,
          2.1544869245637166,
          null,
          3.1737108424743012,
          3.335750870036241,
          null,
          -3.689116576858949,
          -4.01777802307282,
          null,
          -3.689116576858949,
          -5.244995533888491,
          null,
          4.109719527028188,
          5.402839090079825,
          null,
          4.109719527028188,
          2.738899984302465,
          null,
          4.109719527028188,
          3.88784804487097,
          null,
          4.109719527028188,
          5.224568408502076,
          null,
          5.402839090079825,
          3.88784804487097,
          null,
          5.402839090079825,
          5.224568408502076,
          null,
          2.1887111806798054,
          3.4719143932776717,
          null,
          2.1887111806798054,
          3.7674512223468177,
          null,
          2.1887111806798054,
          2.4951292634189115,
          null,
          2.1887111806798054,
          0.6661017007582218,
          null,
          -0.33739728982410044,
          0.7771524102941882,
          null,
          -0.33739728982410044,
          0.2862071765603037,
          null,
          1.7281687270103645,
          2.1544869245637166,
          null,
          1.7281687270103645,
          3.335750870036241,
          null,
          3.4719143932776717,
          3.7674512223468177,
          null,
          3.4719143932776717,
          4.915901987606834,
          null,
          3.4719143932776717,
          2.4951292634189115,
          null,
          -1.8590490066283718,
          -1.170009256141884,
          null,
          -0.44262017088200467,
          1.4615466040114147,
          null,
          -0.44262017088200467,
          0.2821050967548813,
          null,
          -0.44262017088200467,
          0.655425888970515,
          null,
          1.4615466040114147,
          0.2821050967548813,
          null,
          1.4615466040114147,
          0.655425888970515,
          null,
          -1.549355300376296,
          -2.722918512411141,
          null,
          -1.549355300376296,
          -1.2887124151558458,
          null,
          -1.549355300376296,
          -2.8453004255904073,
          null,
          2.426973453643019,
          0.7771524102941882,
          null,
          -3.9734466447401844,
          -5.227852066916324,
          null,
          3.7674512223468177,
          4.915901987606834,
          null,
          3.7674512223468177,
          2.4951292634189115,
          null,
          -4.488558754660826,
          -6.436207307120385,
          null,
          -1.2887124151558458,
          -2.8453004255904073,
          null,
          0.2821050967548813,
          0.655425888970515,
          null,
          -4.01777802307282,
          -5.244995533888491,
          null,
          3.88784804487097,
          5.224568408502076,
          null,
          -3.614588403309549,
          -2.5306908429226476,
          null,
          5.625371271483945,
          5.224568408502076,
          null,
          -2.0239048008149343,
          -0.4487817579735346,
          null,
          -0.4487817579735346,
          -0.5684106221617542,
          null,
          -2.1239188385142547,
          -0.5684106221617542,
          null,
          0.6661017007582218,
          -0.497644952740602,
          null,
          4.785190956162395,
          4.232580098162915,
          null,
          2.1544869245637166,
          3.335750870036241,
          null
         ]
        },
        {
         "hoverinfo": "text",
         "hovertext": [
          "Node ID: 0<br>Pullback set label: 48<br>Partial cluster label: -1<br>Node size: 2<br>Summary statistic: 28.5",
          "Node ID: 1<br>Pullback set label: 41<br>Partial cluster label: -1<br>Node size: 5<br>Summary statistic: 37.2",
          "Node ID: 2<br>Pullback set label: 29<br>Partial cluster label: -1<br>Node size: 3<br>Summary statistic: 56.7",
          "Node ID: 3<br>Pullback set label: 30<br>Partial cluster label: -1<br>Node size: 2<br>Summary statistic: 35.0",
          "Node ID: 4<br>Pullback set label: 20<br>Partial cluster label: -1<br>Node size: 1<br>Summary statistic: 3.0",
          "Node ID: 5<br>Pullback set label: 61<br>Partial cluster label: -1<br>Node size: 4<br>Summary statistic: 48.0",
          "Node ID: 6<br>Pullback set label: 50<br>Partial cluster label: -1<br>Node size: 4<br>Summary statistic: 44.2",
          "Node ID: 7<br>Pullback set label: 59<br>Partial cluster label: -1<br>Node size: 4<br>Summary statistic: 69.8",
          "Node ID: 8<br>Pullback set label: 53<br>Partial cluster label: -1<br>Node size: 2<br>Summary statistic: 35.0",
          "Node ID: 9<br>Pullback set label: 51<br>Partial cluster label: -1<br>Node size: 6<br>Summary statistic: 59.5",
          "Node ID: 10<br>Pullback set label: 52<br>Partial cluster label: -1<br>Node size: 3<br>Summary statistic: 44.7",
          "Node ID: 11<br>Pullback set label: 10<br>Partial cluster label: -1<br>Node size: 4<br>Summary statistic: 56.8",
          "Node ID: 12<br>Pullback set label: 34<br>Partial cluster label: -1<br>Node size: 3<br>Summary statistic: 68.0",
          "Node ID: 13<br>Pullback set label: 0<br>Partial cluster label: -1<br>Node size: 7<br>Summary statistic: 54.3",
          "Node ID: 14<br>Pullback set label: 4<br>Partial cluster label: -1<br>Node size: 1<br>Summary statistic: 12.0",
          "Node ID: 15<br>Pullback set label: 64<br>Partial cluster label: -1<br>Node size: 2<br>Summary statistic: 42.0",
          "Node ID: 16<br>Pullback set label: 19<br>Partial cluster label: -1<br>Node size: 4<br>Summary statistic: 48.5",
          "Node ID: 17<br>Pullback set label: 33<br>Partial cluster label: -1<br>Node size: 4<br>Summary statistic: 74.0",
          "Node ID: 18<br>Pullback set label: 56<br>Partial cluster label: -1<br>Node size: 3<br>Summary statistic: 47.3",
          "Node ID: 19<br>Pullback set label: 62<br>Partial cluster label: -1<br>Node size: 7<br>Summary statistic: 63.7",
          "Node ID: 20<br>Pullback set label: 26<br>Partial cluster label: -1<br>Node size: 1<br>Summary statistic: 21.0",
          "Node ID: 21<br>Pullback set label: 2<br>Partial cluster label: -1<br>Node size: 4<br>Summary statistic: 42.0",
          "Node ID: 22<br>Pullback set label: 40<br>Partial cluster label: -1<br>Node size: 2<br>Summary statistic: 28.5",
          "Node ID: 23<br>Pullback set label: 1<br>Partial cluster label: -1<br>Node size: 3<br>Summary statistic: 45.3",
          "Node ID: 24<br>Pullback set label: 39<br>Partial cluster label: -1<br>Node size: 3<br>Summary statistic: 49.7",
          "Node ID: 25<br>Pullback set label: 31<br>Partial cluster label: -1<br>Node size: 2<br>Summary statistic: 33.0",
          "Node ID: 26<br>Pullback set label: 11<br>Partial cluster label: -1<br>Node size: 2<br>Summary statistic: 61.5",
          "Node ID: 27<br>Pullback set label: 12<br>Partial cluster label: -1<br>Node size: 1<br>Summary statistic: 29.0",
          "Node ID: 28<br>Pullback set label: 18<br>Partial cluster label: -1<br>Node size: 5<br>Summary statistic: 56.6",
          "Node ID: 29<br>Pullback set label: 42<br>Partial cluster label: -1<br>Node size: 2<br>Summary statistic: 44.0",
          "Node ID: 30<br>Pullback set label: 36<br>Partial cluster label: -1<br>Node size: 2<br>Summary statistic: 36.0",
          "Node ID: 31<br>Pullback set label: 60<br>Partial cluster label: -1<br>Node size: 3<br>Summary statistic: 76.0",
          "Node ID: 32<br>Pullback set label: 27<br>Partial cluster label: -1<br>Node size: 2<br>Summary statistic: 56.5",
          "Node ID: 33<br>Pullback set label: 8<br>Partial cluster label: -1<br>Node size: 2<br>Summary statistic: 37.5",
          "Node ID: 34<br>Pullback set label: 3<br>Partial cluster label: -1<br>Node size: 1<br>Summary statistic: 38.0",
          "Node ID: 35<br>Pullback set label: 35<br>Partial cluster label: -1<br>Node size: 1<br>Summary statistic: 39.0",
          "Node ID: 36<br>Pullback set label: 25<br>Partial cluster label: -1<br>Node size: 1<br>Summary statistic: 41.0",
          "Node ID: 37<br>Pullback set label: 55<br>Partial cluster label: -1<br>Node size: 3<br>Summary statistic: 66.0",
          "Node ID: 38<br>Pullback set label: 63<br>Partial cluster label: -1<br>Node size: 5<br>Summary statistic: 67.8",
          "Node ID: 39<br>Pullback set label: 45<br>Partial cluster label: -1<br>Node size: 2<br>Summary statistic: 53.0",
          "Node ID: 40<br>Pullback set label: 44<br>Partial cluster label: -1<br>Node size: 2<br>Summary statistic: 63.0",
          "Node ID: 41<br>Pullback set label: 21<br>Partial cluster label: -1<br>Node size: 1<br>Summary statistic: 45.0",
          "Node ID: 42<br>Pullback set label: 47<br>Partial cluster label: -1<br>Node size: 1<br>Summary statistic: 46.0",
          "Node ID: 43<br>Pullback set label: 22<br>Partial cluster label: -1<br>Node size: 3<br>Summary statistic: 73.0",
          "Node ID: 44<br>Pullback set label: 15<br>Partial cluster label: -1<br>Node size: 1<br>Summary statistic: 49.0",
          "Node ID: 45<br>Pullback set label: 57<br>Partial cluster label: -1<br>Node size: 1<br>Summary statistic: 51.0",
          "Node ID: 46<br>Pullback set label: 6<br>Partial cluster label: -1<br>Node size: 4<br>Summary statistic: 90.2",
          "Node ID: 47<br>Pullback set label: 37<br>Partial cluster label: -1<br>Node size: 3<br>Summary statistic: 62.0",
          "Node ID: 48<br>Pullback set label: 43<br>Partial cluster label: -1<br>Node size: 2<br>Summary statistic: 68.0",
          "Node ID: 49<br>Pullback set label: 17<br>Partial cluster label: -1<br>Node size: 1<br>Summary statistic: 56.0",
          "Node ID: 50<br>Pullback set label: 24<br>Partial cluster label: -1<br>Node size: 2<br>Summary statistic: 62.0",
          "Node ID: 51<br>Pullback set label: 49<br>Partial cluster label: -1<br>Node size: 1<br>Summary statistic: 57.0",
          "Node ID: 52<br>Pullback set label: 16<br>Partial cluster label: -1<br>Node size: 1<br>Summary statistic: 58.0",
          "Node ID: 53<br>Pullback set label: 23<br>Partial cluster label: -1<br>Node size: 3<br>Summary statistic: 79.0",
          "Node ID: 54<br>Pullback set label: 46<br>Partial cluster label: -1<br>Node size: 1<br>Summary statistic: 63.0",
          "Node ID: 55<br>Pullback set label: 9<br>Partial cluster label: -1<br>Node size: 3<br>Summary statistic: 76.7",
          "Node ID: 56<br>Pullback set label: 13<br>Partial cluster label: -1<br>Node size: 1<br>Summary statistic: 66.0",
          "Node ID: 57<br>Pullback set label: 14<br>Partial cluster label: -1<br>Node size: 2<br>Summary statistic: 87.0",
          "Node ID: 58<br>Pullback set label: 38<br>Partial cluster label: -1<br>Node size: 4<br>Summary statistic: 85.5",
          "Node ID: 59<br>Pullback set label: 58<br>Partial cluster label: -1<br>Node size: 2<br>Summary statistic: 88.5",
          "Node ID: 60<br>Pullback set label: 65<br>Partial cluster label: -1<br>Node size: 1<br>Summary statistic: 70.0",
          "Node ID: 61<br>Pullback set label: 28<br>Partial cluster label: -1<br>Node size: 2<br>Summary statistic: 88.5",
          "Node ID: 62<br>Pullback set label: 5<br>Partial cluster label: -1<br>Node size: 1<br>Summary statistic: 87.0",
          "Node ID: 63<br>Pullback set label: 32<br>Partial cluster label: -1<br>Node size: 2<br>Summary statistic: 90.0",
          "Node ID: 64<br>Pullback set label: 54<br>Partial cluster label: -1<br>Node size: 1<br>Summary statistic: 98.0",
          "Node ID: 65<br>Pullback set label: 7<br>Partial cluster label: -1<br>Node size: 1<br>Summary statistic: 105.0"
         ],
         "marker": {
          "color": [
           28.5,
           37.2,
           56.666666666666664,
           35,
           3,
           48,
           44.25,
           69.75,
           35,
           59.5,
           44.666666666666664,
           56.75,
           68,
           54.285714285714285,
           12,
           42,
           48.5,
           74,
           47.333333333333336,
           63.714285714285715,
           21,
           42,
           28.5,
           45.333333333333336,
           49.666666666666664,
           33,
           61.5,
           29,
           56.6,
           44,
           36,
           76,
           56.5,
           37.5,
           38,
           39,
           41,
           66,
           67.8,
           53,
           63,
           45,
           46,
           73,
           49,
           51,
           90.25,
           62,
           68,
           56,
           62,
           57,
           58,
           79,
           63,
           76.66666666666667,
           66,
           87,
           85.5,
           88.5,
           70,
           88.5,
           87,
           90,
           98,
           105
          ],
          "colorbar": {
           "thickness": 15,
           "title": {
            "side": "right",
            "text": ""
           },
           "xanchor": "left"
          },
          "colorscale": [
           [
            0,
            "#440154"
           ],
           [
            0.1111111111111111,
            "#482878"
           ],
           [
            0.2222222222222222,
            "#3e4989"
           ],
           [
            0.3333333333333333,
            "#31688e"
           ],
           [
            0.4444444444444444,
            "#26828e"
           ],
           [
            0.5555555555555556,
            "#1f9e89"
           ],
           [
            0.6666666666666666,
            "#35b779"
           ],
           [
            0.7777777777777778,
            "#6ece58"
           ],
           [
            0.8888888888888888,
            "#b5de2b"
           ],
           [
            1,
            "#fde725"
           ]
          ],
          "line": {
           "color": "#888",
           "width": 1
          },
          "opacity": 1,
          "reversescale": false,
          "showscale": true,
          "size": [
           2,
           5,
           3,
           2,
           1,
           4,
           4,
           4,
           2,
           6,
           3,
           4,
           3,
           7,
           1,
           2,
           4,
           4,
           3,
           7,
           1,
           4,
           2,
           3,
           3,
           2,
           2,
           1,
           5,
           2,
           2,
           3,
           2,
           2,
           1,
           1,
           1,
           3,
           5,
           2,
           2,
           1,
           1,
           3,
           1,
           1,
           4,
           3,
           2,
           1,
           2,
           1,
           1,
           3,
           1,
           3,
           1,
           2,
           4,
           2,
           1,
           2,
           1,
           2,
           1,
           1
          ],
          "sizemin": 4,
          "sizemode": "area",
          "sizeref": 0.09722222222222222
         },
         "mode": "markers",
         "name": "node_trace",
         "type": "scatter",
         "uid": "7a895ba8-704a-410d-a5b2-7dbf052b96be",
         "x": [
          2.9059998116196564,
          0.9995946767306867,
          6.980965497437037,
          5.735502445248489,
          0.37897729868498925,
          -4.465903029877375,
          4.490147242551583,
          4.589922008319068,
          -0.19335587870727036,
          3.2179439113413117,
          3.0813983459117313,
          -2.251727199626967,
          1.3401266241887577,
          -0.4767164766599381,
          1.7739687205956929,
          4.78682815883665,
          -1.9164066135478661,
          5.924534064352728,
          -5.037120702359279,
          -4.629419328249723,
          6.3001133542221455,
          -5.267708079442381,
          -0.08532086630612153,
          -3.665283487146923,
          0.10282096658292668,
          -4.4163845048885175,
          -3.3187936694377522,
          -2.342888847201234,
          -3.671728768692281,
          1.6686029392659831,
          -3.3367932710652486,
          3.294884859882296,
          -3.3509292359843923,
          -3.873267405333827,
          -5.013769950857908,
          -1.4004523329706844,
          -0.2335127774840791,
          -3.799268411323715,
          -5.575264446868869,
          -1.816186921127436,
          1.792026669145165,
          3.510626459233171,
          4.393466966980024,
          5.300408279437434,
          1.036869192637878,
          5.286401367602272,
          3.5703068249726337,
          0.5611591687185382,
          1.920179938203084,
          4.873080081950926,
          5.540115593384977,
          2.235630399857639,
          7.000520811566331,
          7.00308923349975,
          -0.7291990747629953,
          -2.402646296681267,
          -1.3274313971006215,
          0.2012537291038219,
          -2.3403452657969126,
          6.094036341985033,
          5.8748655053233385,
          2.8907969246808425,
          -1.3266163410229888,
          4.1632170105238515,
          -1.949542829907927,
          2.2995203383355136
         ],
         "y": [
          -5.195121403992765,
          -5.734229018923326,
          0.7532973561624801,
          0.8650957272857462,
          -2.0806916833114455,
          2.93638955801431,
          4.459900633339527,
          3.1737108424743012,
          -3.689116576858949,
          4.109719527028188,
          5.402839090079825,
          2.1887111806798054,
          -0.33739728982410044,
          5.409365085218893,
          1.9796858013693115,
          1.7281687270103645,
          3.4719143932776717,
          -1.8590490066283718,
          -0.44262017088200467,
          1.4615466040114147,
          -3.47787395073507,
          -1.549355300376296,
          2.426973453643019,
          -2.722918512411141,
          0.7771524102941882,
          -3.9734466447401844,
          3.7674512223468177,
          4.915901987606834,
          2.4951292634189115,
          -4.488558754660826,
          -5.227852066916324,
          2.738899984302465,
          -4.20158134011419,
          -1.2887124151558458,
          -2.8453004255904073,
          -6.367435313541397,
          -6.63763802572536,
          0.2821050967548813,
          0.655425888970515,
          -4.01777802307282,
          3.88784804487097,
          -6.228168008669759,
          -5.426787158828172,
          -4.879627145859621,
          -6.855527923646301,
          -3.896052225654925,
          -3.614588403309549,
          5.625371271483945,
          5.224568408502076,
          -2.0239048008149343,
          -0.4487817579735346,
          -6.436207307120385,
          -2.1239188385142547,
          -0.5684106221617542,
          -5.244995533888491,
          0.6661017007582218,
          4.785190956162395,
          4.232580098162915,
          -5.7693574623844395,
          2.1544869245637166,
          3.335750870036241,
          0.2862071765603037,
          -0.497644952740602,
          -1.170009256141884,
          -2.1803613967076827,
          -2.5306908429226476
         ]
        }
       ],
       "layout": {
        "autosize": false,
        "hovermode": "closest",
        "margin": {
         "b": 20,
         "l": 5,
         "r": 5,
         "t": 40
        },
        "showlegend": false,
        "template": {
         "data": {
          "bar": [
           {
            "error_x": {
             "color": "rgb(36,36,36)"
            },
            "error_y": {
             "color": "rgb(36,36,36)"
            },
            "marker": {
             "line": {
              "color": "white",
              "width": 0.5
             },
             "pattern": {
              "fillmode": "overlay",
              "size": 10,
              "solidity": 0.2
             }
            },
            "type": "bar"
           }
          ],
          "barpolar": [
           {
            "marker": {
             "line": {
              "color": "white",
              "width": 0.5
             },
             "pattern": {
              "fillmode": "overlay",
              "size": 10,
              "solidity": 0.2
             }
            },
            "type": "barpolar"
           }
          ],
          "carpet": [
           {
            "aaxis": {
             "endlinecolor": "rgb(36,36,36)",
             "gridcolor": "white",
             "linecolor": "white",
             "minorgridcolor": "white",
             "startlinecolor": "rgb(36,36,36)"
            },
            "baxis": {
             "endlinecolor": "rgb(36,36,36)",
             "gridcolor": "white",
             "linecolor": "white",
             "minorgridcolor": "white",
             "startlinecolor": "rgb(36,36,36)"
            },
            "type": "carpet"
           }
          ],
          "choropleth": [
           {
            "colorbar": {
             "outlinewidth": 1,
             "tickcolor": "rgb(36,36,36)",
             "ticks": "outside"
            },
            "type": "choropleth"
           }
          ],
          "contour": [
           {
            "colorbar": {
             "outlinewidth": 1,
             "tickcolor": "rgb(36,36,36)",
             "ticks": "outside"
            },
            "colorscale": [
             [
              0,
              "#440154"
             ],
             [
              0.1111111111111111,
              "#482878"
             ],
             [
              0.2222222222222222,
              "#3e4989"
             ],
             [
              0.3333333333333333,
              "#31688e"
             ],
             [
              0.4444444444444444,
              "#26828e"
             ],
             [
              0.5555555555555556,
              "#1f9e89"
             ],
             [
              0.6666666666666666,
              "#35b779"
             ],
             [
              0.7777777777777778,
              "#6ece58"
             ],
             [
              0.8888888888888888,
              "#b5de2b"
             ],
             [
              1,
              "#fde725"
             ]
            ],
            "type": "contour"
           }
          ],
          "contourcarpet": [
           {
            "colorbar": {
             "outlinewidth": 1,
             "tickcolor": "rgb(36,36,36)",
             "ticks": "outside"
            },
            "type": "contourcarpet"
           }
          ],
          "heatmap": [
           {
            "colorbar": {
             "outlinewidth": 1,
             "tickcolor": "rgb(36,36,36)",
             "ticks": "outside"
            },
            "colorscale": [
             [
              0,
              "#440154"
             ],
             [
              0.1111111111111111,
              "#482878"
             ],
             [
              0.2222222222222222,
              "#3e4989"
             ],
             [
              0.3333333333333333,
              "#31688e"
             ],
             [
              0.4444444444444444,
              "#26828e"
             ],
             [
              0.5555555555555556,
              "#1f9e89"
             ],
             [
              0.6666666666666666,
              "#35b779"
             ],
             [
              0.7777777777777778,
              "#6ece58"
             ],
             [
              0.8888888888888888,
              "#b5de2b"
             ],
             [
              1,
              "#fde725"
             ]
            ],
            "type": "heatmap"
           }
          ],
          "heatmapgl": [
           {
            "colorbar": {
             "outlinewidth": 1,
             "tickcolor": "rgb(36,36,36)",
             "ticks": "outside"
            },
            "colorscale": [
             [
              0,
              "#440154"
             ],
             [
              0.1111111111111111,
              "#482878"
             ],
             [
              0.2222222222222222,
              "#3e4989"
             ],
             [
              0.3333333333333333,
              "#31688e"
             ],
             [
              0.4444444444444444,
              "#26828e"
             ],
             [
              0.5555555555555556,
              "#1f9e89"
             ],
             [
              0.6666666666666666,
              "#35b779"
             ],
             [
              0.7777777777777778,
              "#6ece58"
             ],
             [
              0.8888888888888888,
              "#b5de2b"
             ],
             [
              1,
              "#fde725"
             ]
            ],
            "type": "heatmapgl"
           }
          ],
          "histogram": [
           {
            "marker": {
             "line": {
              "color": "white",
              "width": 0.6
             }
            },
            "type": "histogram"
           }
          ],
          "histogram2d": [
           {
            "colorbar": {
             "outlinewidth": 1,
             "tickcolor": "rgb(36,36,36)",
             "ticks": "outside"
            },
            "colorscale": [
             [
              0,
              "#440154"
             ],
             [
              0.1111111111111111,
              "#482878"
             ],
             [
              0.2222222222222222,
              "#3e4989"
             ],
             [
              0.3333333333333333,
              "#31688e"
             ],
             [
              0.4444444444444444,
              "#26828e"
             ],
             [
              0.5555555555555556,
              "#1f9e89"
             ],
             [
              0.6666666666666666,
              "#35b779"
             ],
             [
              0.7777777777777778,
              "#6ece58"
             ],
             [
              0.8888888888888888,
              "#b5de2b"
             ],
             [
              1,
              "#fde725"
             ]
            ],
            "type": "histogram2d"
           }
          ],
          "histogram2dcontour": [
           {
            "colorbar": {
             "outlinewidth": 1,
             "tickcolor": "rgb(36,36,36)",
             "ticks": "outside"
            },
            "colorscale": [
             [
              0,
              "#440154"
             ],
             [
              0.1111111111111111,
              "#482878"
             ],
             [
              0.2222222222222222,
              "#3e4989"
             ],
             [
              0.3333333333333333,
              "#31688e"
             ],
             [
              0.4444444444444444,
              "#26828e"
             ],
             [
              0.5555555555555556,
              "#1f9e89"
             ],
             [
              0.6666666666666666,
              "#35b779"
             ],
             [
              0.7777777777777778,
              "#6ece58"
             ],
             [
              0.8888888888888888,
              "#b5de2b"
             ],
             [
              1,
              "#fde725"
             ]
            ],
            "type": "histogram2dcontour"
           }
          ],
          "mesh3d": [
           {
            "colorbar": {
             "outlinewidth": 1,
             "tickcolor": "rgb(36,36,36)",
             "ticks": "outside"
            },
            "type": "mesh3d"
           }
          ],
          "parcoords": [
           {
            "line": {
             "colorbar": {
              "outlinewidth": 1,
              "tickcolor": "rgb(36,36,36)",
              "ticks": "outside"
             }
            },
            "type": "parcoords"
           }
          ],
          "pie": [
           {
            "automargin": true,
            "type": "pie"
           }
          ],
          "scatter": [
           {
            "fillpattern": {
             "fillmode": "overlay",
             "size": 10,
             "solidity": 0.2
            },
            "type": "scatter"
           }
          ],
          "scatter3d": [
           {
            "line": {
             "colorbar": {
              "outlinewidth": 1,
              "tickcolor": "rgb(36,36,36)",
              "ticks": "outside"
             }
            },
            "marker": {
             "colorbar": {
              "outlinewidth": 1,
              "tickcolor": "rgb(36,36,36)",
              "ticks": "outside"
             }
            },
            "type": "scatter3d"
           }
          ],
          "scattercarpet": [
           {
            "marker": {
             "colorbar": {
              "outlinewidth": 1,
              "tickcolor": "rgb(36,36,36)",
              "ticks": "outside"
             }
            },
            "type": "scattercarpet"
           }
          ],
          "scattergeo": [
           {
            "marker": {
             "colorbar": {
              "outlinewidth": 1,
              "tickcolor": "rgb(36,36,36)",
              "ticks": "outside"
             }
            },
            "type": "scattergeo"
           }
          ],
          "scattergl": [
           {
            "marker": {
             "colorbar": {
              "outlinewidth": 1,
              "tickcolor": "rgb(36,36,36)",
              "ticks": "outside"
             }
            },
            "type": "scattergl"
           }
          ],
          "scattermapbox": [
           {
            "marker": {
             "colorbar": {
              "outlinewidth": 1,
              "tickcolor": "rgb(36,36,36)",
              "ticks": "outside"
             }
            },
            "type": "scattermapbox"
           }
          ],
          "scatterpolar": [
           {
            "marker": {
             "colorbar": {
              "outlinewidth": 1,
              "tickcolor": "rgb(36,36,36)",
              "ticks": "outside"
             }
            },
            "type": "scatterpolar"
           }
          ],
          "scatterpolargl": [
           {
            "marker": {
             "colorbar": {
              "outlinewidth": 1,
              "tickcolor": "rgb(36,36,36)",
              "ticks": "outside"
             }
            },
            "type": "scatterpolargl"
           }
          ],
          "scatterternary": [
           {
            "marker": {
             "colorbar": {
              "outlinewidth": 1,
              "tickcolor": "rgb(36,36,36)",
              "ticks": "outside"
             }
            },
            "type": "scatterternary"
           }
          ],
          "surface": [
           {
            "colorbar": {
             "outlinewidth": 1,
             "tickcolor": "rgb(36,36,36)",
             "ticks": "outside"
            },
            "colorscale": [
             [
              0,
              "#440154"
             ],
             [
              0.1111111111111111,
              "#482878"
             ],
             [
              0.2222222222222222,
              "#3e4989"
             ],
             [
              0.3333333333333333,
              "#31688e"
             ],
             [
              0.4444444444444444,
              "#26828e"
             ],
             [
              0.5555555555555556,
              "#1f9e89"
             ],
             [
              0.6666666666666666,
              "#35b779"
             ],
             [
              0.7777777777777778,
              "#6ece58"
             ],
             [
              0.8888888888888888,
              "#b5de2b"
             ],
             [
              1,
              "#fde725"
             ]
            ],
            "type": "surface"
           }
          ],
          "table": [
           {
            "cells": {
             "fill": {
              "color": "rgb(237,237,237)"
             },
             "line": {
              "color": "white"
             }
            },
            "header": {
             "fill": {
              "color": "rgb(217,217,217)"
             },
             "line": {
              "color": "white"
             }
            },
            "type": "table"
           }
          ]
         },
         "layout": {
          "annotationdefaults": {
           "arrowhead": 0,
           "arrowwidth": 1
          },
          "autotypenumbers": "strict",
          "coloraxis": {
           "colorbar": {
            "outlinewidth": 1,
            "tickcolor": "rgb(36,36,36)",
            "ticks": "outside"
           }
          },
          "colorscale": {
           "diverging": [
            [
             0,
             "rgb(103,0,31)"
            ],
            [
             0.1,
             "rgb(178,24,43)"
            ],
            [
             0.2,
             "rgb(214,96,77)"
            ],
            [
             0.3,
             "rgb(244,165,130)"
            ],
            [
             0.4,
             "rgb(253,219,199)"
            ],
            [
             0.5,
             "rgb(247,247,247)"
            ],
            [
             0.6,
             "rgb(209,229,240)"
            ],
            [
             0.7,
             "rgb(146,197,222)"
            ],
            [
             0.8,
             "rgb(67,147,195)"
            ],
            [
             0.9,
             "rgb(33,102,172)"
            ],
            [
             1,
             "rgb(5,48,97)"
            ]
           ],
           "sequential": [
            [
             0,
             "#440154"
            ],
            [
             0.1111111111111111,
             "#482878"
            ],
            [
             0.2222222222222222,
             "#3e4989"
            ],
            [
             0.3333333333333333,
             "#31688e"
            ],
            [
             0.4444444444444444,
             "#26828e"
            ],
            [
             0.5555555555555556,
             "#1f9e89"
            ],
            [
             0.6666666666666666,
             "#35b779"
            ],
            [
             0.7777777777777778,
             "#6ece58"
            ],
            [
             0.8888888888888888,
             "#b5de2b"
            ],
            [
             1,
             "#fde725"
            ]
           ],
           "sequentialminus": [
            [
             0,
             "#440154"
            ],
            [
             0.1111111111111111,
             "#482878"
            ],
            [
             0.2222222222222222,
             "#3e4989"
            ],
            [
             0.3333333333333333,
             "#31688e"
            ],
            [
             0.4444444444444444,
             "#26828e"
            ],
            [
             0.5555555555555556,
             "#1f9e89"
            ],
            [
             0.6666666666666666,
             "#35b779"
            ],
            [
             0.7777777777777778,
             "#6ece58"
            ],
            [
             0.8888888888888888,
             "#b5de2b"
            ],
            [
             1,
             "#fde725"
            ]
           ]
          },
          "colorway": [
           "#1F77B4",
           "#FF7F0E",
           "#2CA02C",
           "#D62728",
           "#9467BD",
           "#8C564B",
           "#E377C2",
           "#7F7F7F",
           "#BCBD22",
           "#17BECF"
          ],
          "font": {
           "color": "rgb(36,36,36)"
          },
          "geo": {
           "bgcolor": "white",
           "lakecolor": "white",
           "landcolor": "white",
           "showlakes": true,
           "showland": true,
           "subunitcolor": "white"
          },
          "hoverlabel": {
           "align": "left"
          },
          "hovermode": "closest",
          "mapbox": {
           "style": "light"
          },
          "paper_bgcolor": "white",
          "plot_bgcolor": "white",
          "polar": {
           "angularaxis": {
            "gridcolor": "rgb(232,232,232)",
            "linecolor": "rgb(36,36,36)",
            "showgrid": false,
            "showline": true,
            "ticks": "outside"
           },
           "bgcolor": "white",
           "radialaxis": {
            "gridcolor": "rgb(232,232,232)",
            "linecolor": "rgb(36,36,36)",
            "showgrid": false,
            "showline": true,
            "ticks": "outside"
           }
          },
          "scene": {
           "xaxis": {
            "backgroundcolor": "white",
            "gridcolor": "rgb(232,232,232)",
            "gridwidth": 2,
            "linecolor": "rgb(36,36,36)",
            "showbackground": true,
            "showgrid": false,
            "showline": true,
            "ticks": "outside",
            "zeroline": false,
            "zerolinecolor": "rgb(36,36,36)"
           },
           "yaxis": {
            "backgroundcolor": "white",
            "gridcolor": "rgb(232,232,232)",
            "gridwidth": 2,
            "linecolor": "rgb(36,36,36)",
            "showbackground": true,
            "showgrid": false,
            "showline": true,
            "ticks": "outside",
            "zeroline": false,
            "zerolinecolor": "rgb(36,36,36)"
           },
           "zaxis": {
            "backgroundcolor": "white",
            "gridcolor": "rgb(232,232,232)",
            "gridwidth": 2,
            "linecolor": "rgb(36,36,36)",
            "showbackground": true,
            "showgrid": false,
            "showline": true,
            "ticks": "outside",
            "zeroline": false,
            "zerolinecolor": "rgb(36,36,36)"
           }
          },
          "shapedefaults": {
           "fillcolor": "black",
           "line": {
            "width": 0
           },
           "opacity": 0.3
          },
          "ternary": {
           "aaxis": {
            "gridcolor": "rgb(232,232,232)",
            "linecolor": "rgb(36,36,36)",
            "showgrid": false,
            "showline": true,
            "ticks": "outside"
           },
           "baxis": {
            "gridcolor": "rgb(232,232,232)",
            "linecolor": "rgb(36,36,36)",
            "showgrid": false,
            "showline": true,
            "ticks": "outside"
           },
           "bgcolor": "white",
           "caxis": {
            "gridcolor": "rgb(232,232,232)",
            "linecolor": "rgb(36,36,36)",
            "showgrid": false,
            "showline": true,
            "ticks": "outside"
           }
          },
          "title": {
           "x": 0.05
          },
          "xaxis": {
           "automargin": true,
           "gridcolor": "rgb(232,232,232)",
           "linecolor": "rgb(36,36,36)",
           "showgrid": false,
           "showline": true,
           "ticks": "outside",
           "title": {
            "standoff": 15
           },
           "zeroline": false,
           "zerolinecolor": "rgb(36,36,36)"
          },
          "yaxis": {
           "automargin": true,
           "gridcolor": "rgb(232,232,232)",
           "linecolor": "rgb(36,36,36)",
           "showgrid": false,
           "showline": true,
           "ticks": "outside",
           "title": {
            "standoff": 15
           },
           "zeroline": false,
           "zerolinecolor": "rgb(36,36,36)"
          }
         }
        },
        "title": {
         "text": ""
        },
        "xaxis": {
         "showgrid": false,
         "showline": false,
         "showticklabels": false,
         "ticks": "",
         "title": {
          "text": ""
         },
         "zeroline": false
        },
        "yaxis": {
         "showgrid": false,
         "showline": false,
         "showticklabels": false,
         "ticks": "",
         "title": {
          "text": ""
         },
         "zeroline": false
        }
       }
      },
      "text/html": [
       "<div>                            <div id=\"591dcadb-bbff-43bd-bdc9-44ce76df2b04\" class=\"plotly-graph-div\" style=\"height:525px; width:100%;\"></div>            <script type=\"text/javascript\">                require([\"plotly\"], function(Plotly) {                    window.PLOTLYENV=window.PLOTLYENV || {};                                    if (document.getElementById(\"591dcadb-bbff-43bd-bdc9-44ce76df2b04\")) {                    Plotly.newPlot(                        \"591dcadb-bbff-43bd-bdc9-44ce76df2b04\",                        [{\"hoverinfo\":\"none\",\"line\":{\"color\":\"#888\",\"width\":1},\"mode\":\"lines\",\"name\":\"edge_trace\",\"x\":[2.9059998116196564,0.9995946767306867,null,2.9059998116196564,1.6686029392659831,null,2.9059998116196564,2.235630399857639,null,0.9995946767306867,1.6686029392659831,null,0.9995946767306867,2.235630399857639,null,6.980965497437037,5.735502445248489,null,6.980965497437037,5.540115593384977,null,6.980965497437037,7.00308923349975,null,5.735502445248489,5.540115593384977,null,5.735502445248489,7.00308923349975,null,-4.465903029877375,-4.629419328249723,null,4.490147242551583,4.589922008319068,null,4.490147242551583,3.2179439113413117,null,4.490147242551583,3.294884859882296,null,4.589922008319068,3.2179439113413117,null,4.589922008319068,4.78682815883665,null,4.589922008319068,3.294884859882296,null,4.589922008319068,6.094036341985033,null,4.589922008319068,5.8748655053233385,null,-0.19335587870727036,-1.816186921127436,null,-0.19335587870727036,-0.7291990747629953,null,3.2179439113413117,3.0813983459117313,null,3.2179439113413117,3.294884859882296,null,3.2179439113413117,1.792026669145165,null,3.2179439113413117,1.920179938203084,null,3.0813983459117313,1.792026669145165,null,3.0813983459117313,1.920179938203084,null,-2.251727199626967,-1.9164066135478661,null,-2.251727199626967,-3.3187936694377522,null,-2.251727199626967,-3.671728768692281,null,-2.251727199626967,-2.402646296681267,null,1.3401266241887577,0.10282096658292668,null,1.3401266241887577,2.8907969246808425,null,4.78682815883665,6.094036341985033,null,4.78682815883665,5.8748655053233385,null,-1.9164066135478661,-3.3187936694377522,null,-1.9164066135478661,-2.342888847201234,null,-1.9164066135478661,-3.671728768692281,null,5.924534064352728,4.1632170105238515,null,-5.037120702359279,-4.629419328249723,null,-5.037120702359279,-3.799268411323715,null,-5.037120702359279,-5.575264446868869,null,-4.629419328249723,-3.799268411323715,null,-4.629419328249723,-5.575264446868869,null,-5.267708079442381,-3.665283487146923,null,-5.267708079442381,-3.873267405333827,null,-5.267708079442381,-5.013769950857908,null,-0.08532086630612153,0.10282096658292668,null,-4.4163845048885175,-3.3367932710652486,null,-3.3187936694377522,-2.342888847201234,null,-3.3187936694377522,-3.671728768692281,null,1.6686029392659831,2.235630399857639,null,-3.873267405333827,-5.013769950857908,null,-3.799268411323715,-5.575264446868869,null,-1.816186921127436,-0.7291990747629953,null,1.792026669145165,1.920179938203084,null,3.5703068249726337,2.2995203383355136,null,0.5611591687185382,1.920179938203084,null,4.873080081950926,5.540115593384977,null,5.540115593384977,7.00308923349975,null,7.000520811566331,7.00308923349975,null,-2.402646296681267,-1.3266163410229888,null,-1.3274313971006215,0.2012537291038219,null,6.094036341985033,5.8748655053233385,null],\"y\":[-5.195121403992765,-5.734229018923326,null,-5.195121403992765,-4.488558754660826,null,-5.195121403992765,-6.436207307120385,null,-5.734229018923326,-4.488558754660826,null,-5.734229018923326,-6.436207307120385,null,0.7532973561624801,0.8650957272857462,null,0.7532973561624801,-0.4487817579735346,null,0.7532973561624801,-0.5684106221617542,null,0.8650957272857462,-0.4487817579735346,null,0.8650957272857462,-0.5684106221617542,null,2.93638955801431,1.4615466040114147,null,4.459900633339527,3.1737108424743012,null,4.459900633339527,4.109719527028188,null,4.459900633339527,2.738899984302465,null,3.1737108424743012,4.109719527028188,null,3.1737108424743012,1.7281687270103645,null,3.1737108424743012,2.738899984302465,null,3.1737108424743012,2.1544869245637166,null,3.1737108424743012,3.335750870036241,null,-3.689116576858949,-4.01777802307282,null,-3.689116576858949,-5.244995533888491,null,4.109719527028188,5.402839090079825,null,4.109719527028188,2.738899984302465,null,4.109719527028188,3.88784804487097,null,4.109719527028188,5.224568408502076,null,5.402839090079825,3.88784804487097,null,5.402839090079825,5.224568408502076,null,2.1887111806798054,3.4719143932776717,null,2.1887111806798054,3.7674512223468177,null,2.1887111806798054,2.4951292634189115,null,2.1887111806798054,0.6661017007582218,null,-0.33739728982410044,0.7771524102941882,null,-0.33739728982410044,0.2862071765603037,null,1.7281687270103645,2.1544869245637166,null,1.7281687270103645,3.335750870036241,null,3.4719143932776717,3.7674512223468177,null,3.4719143932776717,4.915901987606834,null,3.4719143932776717,2.4951292634189115,null,-1.8590490066283718,-1.170009256141884,null,-0.44262017088200467,1.4615466040114147,null,-0.44262017088200467,0.2821050967548813,null,-0.44262017088200467,0.655425888970515,null,1.4615466040114147,0.2821050967548813,null,1.4615466040114147,0.655425888970515,null,-1.549355300376296,-2.722918512411141,null,-1.549355300376296,-1.2887124151558458,null,-1.549355300376296,-2.8453004255904073,null,2.426973453643019,0.7771524102941882,null,-3.9734466447401844,-5.227852066916324,null,3.7674512223468177,4.915901987606834,null,3.7674512223468177,2.4951292634189115,null,-4.488558754660826,-6.436207307120385,null,-1.2887124151558458,-2.8453004255904073,null,0.2821050967548813,0.655425888970515,null,-4.01777802307282,-5.244995533888491,null,3.88784804487097,5.224568408502076,null,-3.614588403309549,-2.5306908429226476,null,5.625371271483945,5.224568408502076,null,-2.0239048008149343,-0.4487817579735346,null,-0.4487817579735346,-0.5684106221617542,null,-2.1239188385142547,-0.5684106221617542,null,0.6661017007582218,-0.497644952740602,null,4.785190956162395,4.232580098162915,null,2.1544869245637166,3.335750870036241,null],\"type\":\"scatter\",\"uid\":\"8664db05-d4e0-4b44-b3ac-5112ed5796aa\"},{\"hoverinfo\":\"text\",\"hovertext\":[\"Node ID: 0\\u003cbr\\u003ePullback set label: 48\\u003cbr\\u003ePartial cluster label: -1\\u003cbr\\u003eNode size: 2\\u003cbr\\u003eSummary statistic: 28.5\",\"Node ID: 1\\u003cbr\\u003ePullback set label: 41\\u003cbr\\u003ePartial cluster label: -1\\u003cbr\\u003eNode size: 5\\u003cbr\\u003eSummary statistic: 37.2\",\"Node ID: 2\\u003cbr\\u003ePullback set label: 29\\u003cbr\\u003ePartial cluster label: -1\\u003cbr\\u003eNode size: 3\\u003cbr\\u003eSummary statistic: 56.7\",\"Node ID: 3\\u003cbr\\u003ePullback set label: 30\\u003cbr\\u003ePartial cluster label: -1\\u003cbr\\u003eNode size: 2\\u003cbr\\u003eSummary statistic: 35.0\",\"Node ID: 4\\u003cbr\\u003ePullback set label: 20\\u003cbr\\u003ePartial cluster label: -1\\u003cbr\\u003eNode size: 1\\u003cbr\\u003eSummary statistic: 3.0\",\"Node ID: 5\\u003cbr\\u003ePullback set label: 61\\u003cbr\\u003ePartial cluster label: -1\\u003cbr\\u003eNode size: 4\\u003cbr\\u003eSummary statistic: 48.0\",\"Node ID: 6\\u003cbr\\u003ePullback set label: 50\\u003cbr\\u003ePartial cluster label: -1\\u003cbr\\u003eNode size: 4\\u003cbr\\u003eSummary statistic: 44.2\",\"Node ID: 7\\u003cbr\\u003ePullback set label: 59\\u003cbr\\u003ePartial cluster label: -1\\u003cbr\\u003eNode size: 4\\u003cbr\\u003eSummary statistic: 69.8\",\"Node ID: 8\\u003cbr\\u003ePullback set label: 53\\u003cbr\\u003ePartial cluster label: -1\\u003cbr\\u003eNode size: 2\\u003cbr\\u003eSummary statistic: 35.0\",\"Node ID: 9\\u003cbr\\u003ePullback set label: 51\\u003cbr\\u003ePartial cluster label: -1\\u003cbr\\u003eNode size: 6\\u003cbr\\u003eSummary statistic: 59.5\",\"Node ID: 10\\u003cbr\\u003ePullback set label: 52\\u003cbr\\u003ePartial cluster label: -1\\u003cbr\\u003eNode size: 3\\u003cbr\\u003eSummary statistic: 44.7\",\"Node ID: 11\\u003cbr\\u003ePullback set label: 10\\u003cbr\\u003ePartial cluster label: -1\\u003cbr\\u003eNode size: 4\\u003cbr\\u003eSummary statistic: 56.8\",\"Node ID: 12\\u003cbr\\u003ePullback set label: 34\\u003cbr\\u003ePartial cluster label: -1\\u003cbr\\u003eNode size: 3\\u003cbr\\u003eSummary statistic: 68.0\",\"Node ID: 13\\u003cbr\\u003ePullback set label: 0\\u003cbr\\u003ePartial cluster label: -1\\u003cbr\\u003eNode size: 7\\u003cbr\\u003eSummary statistic: 54.3\",\"Node ID: 14\\u003cbr\\u003ePullback set label: 4\\u003cbr\\u003ePartial cluster label: -1\\u003cbr\\u003eNode size: 1\\u003cbr\\u003eSummary statistic: 12.0\",\"Node ID: 15\\u003cbr\\u003ePullback set label: 64\\u003cbr\\u003ePartial cluster label: -1\\u003cbr\\u003eNode size: 2\\u003cbr\\u003eSummary statistic: 42.0\",\"Node ID: 16\\u003cbr\\u003ePullback set label: 19\\u003cbr\\u003ePartial cluster label: -1\\u003cbr\\u003eNode size: 4\\u003cbr\\u003eSummary statistic: 48.5\",\"Node ID: 17\\u003cbr\\u003ePullback set label: 33\\u003cbr\\u003ePartial cluster label: -1\\u003cbr\\u003eNode size: 4\\u003cbr\\u003eSummary statistic: 74.0\",\"Node ID: 18\\u003cbr\\u003ePullback set label: 56\\u003cbr\\u003ePartial cluster label: -1\\u003cbr\\u003eNode size: 3\\u003cbr\\u003eSummary statistic: 47.3\",\"Node ID: 19\\u003cbr\\u003ePullback set label: 62\\u003cbr\\u003ePartial cluster label: -1\\u003cbr\\u003eNode size: 7\\u003cbr\\u003eSummary statistic: 63.7\",\"Node ID: 20\\u003cbr\\u003ePullback set label: 26\\u003cbr\\u003ePartial cluster label: -1\\u003cbr\\u003eNode size: 1\\u003cbr\\u003eSummary statistic: 21.0\",\"Node ID: 21\\u003cbr\\u003ePullback set label: 2\\u003cbr\\u003ePartial cluster label: -1\\u003cbr\\u003eNode size: 4\\u003cbr\\u003eSummary statistic: 42.0\",\"Node ID: 22\\u003cbr\\u003ePullback set label: 40\\u003cbr\\u003ePartial cluster label: -1\\u003cbr\\u003eNode size: 2\\u003cbr\\u003eSummary statistic: 28.5\",\"Node ID: 23\\u003cbr\\u003ePullback set label: 1\\u003cbr\\u003ePartial cluster label: -1\\u003cbr\\u003eNode size: 3\\u003cbr\\u003eSummary statistic: 45.3\",\"Node ID: 24\\u003cbr\\u003ePullback set label: 39\\u003cbr\\u003ePartial cluster label: -1\\u003cbr\\u003eNode size: 3\\u003cbr\\u003eSummary statistic: 49.7\",\"Node ID: 25\\u003cbr\\u003ePullback set label: 31\\u003cbr\\u003ePartial cluster label: -1\\u003cbr\\u003eNode size: 2\\u003cbr\\u003eSummary statistic: 33.0\",\"Node ID: 26\\u003cbr\\u003ePullback set label: 11\\u003cbr\\u003ePartial cluster label: -1\\u003cbr\\u003eNode size: 2\\u003cbr\\u003eSummary statistic: 61.5\",\"Node ID: 27\\u003cbr\\u003ePullback set label: 12\\u003cbr\\u003ePartial cluster label: -1\\u003cbr\\u003eNode size: 1\\u003cbr\\u003eSummary statistic: 29.0\",\"Node ID: 28\\u003cbr\\u003ePullback set label: 18\\u003cbr\\u003ePartial cluster label: -1\\u003cbr\\u003eNode size: 5\\u003cbr\\u003eSummary statistic: 56.6\",\"Node ID: 29\\u003cbr\\u003ePullback set label: 42\\u003cbr\\u003ePartial cluster label: -1\\u003cbr\\u003eNode size: 2\\u003cbr\\u003eSummary statistic: 44.0\",\"Node ID: 30\\u003cbr\\u003ePullback set label: 36\\u003cbr\\u003ePartial cluster label: -1\\u003cbr\\u003eNode size: 2\\u003cbr\\u003eSummary statistic: 36.0\",\"Node ID: 31\\u003cbr\\u003ePullback set label: 60\\u003cbr\\u003ePartial cluster label: -1\\u003cbr\\u003eNode size: 3\\u003cbr\\u003eSummary statistic: 76.0\",\"Node ID: 32\\u003cbr\\u003ePullback set label: 27\\u003cbr\\u003ePartial cluster label: -1\\u003cbr\\u003eNode size: 2\\u003cbr\\u003eSummary statistic: 56.5\",\"Node ID: 33\\u003cbr\\u003ePullback set label: 8\\u003cbr\\u003ePartial cluster label: -1\\u003cbr\\u003eNode size: 2\\u003cbr\\u003eSummary statistic: 37.5\",\"Node ID: 34\\u003cbr\\u003ePullback set label: 3\\u003cbr\\u003ePartial cluster label: -1\\u003cbr\\u003eNode size: 1\\u003cbr\\u003eSummary statistic: 38.0\",\"Node ID: 35\\u003cbr\\u003ePullback set label: 35\\u003cbr\\u003ePartial cluster label: -1\\u003cbr\\u003eNode size: 1\\u003cbr\\u003eSummary statistic: 39.0\",\"Node ID: 36\\u003cbr\\u003ePullback set label: 25\\u003cbr\\u003ePartial cluster label: -1\\u003cbr\\u003eNode size: 1\\u003cbr\\u003eSummary statistic: 41.0\",\"Node ID: 37\\u003cbr\\u003ePullback set label: 55\\u003cbr\\u003ePartial cluster label: -1\\u003cbr\\u003eNode size: 3\\u003cbr\\u003eSummary statistic: 66.0\",\"Node ID: 38\\u003cbr\\u003ePullback set label: 63\\u003cbr\\u003ePartial cluster label: -1\\u003cbr\\u003eNode size: 5\\u003cbr\\u003eSummary statistic: 67.8\",\"Node ID: 39\\u003cbr\\u003ePullback set label: 45\\u003cbr\\u003ePartial cluster label: -1\\u003cbr\\u003eNode size: 2\\u003cbr\\u003eSummary statistic: 53.0\",\"Node ID: 40\\u003cbr\\u003ePullback set label: 44\\u003cbr\\u003ePartial cluster label: -1\\u003cbr\\u003eNode size: 2\\u003cbr\\u003eSummary statistic: 63.0\",\"Node ID: 41\\u003cbr\\u003ePullback set label: 21\\u003cbr\\u003ePartial cluster label: -1\\u003cbr\\u003eNode size: 1\\u003cbr\\u003eSummary statistic: 45.0\",\"Node ID: 42\\u003cbr\\u003ePullback set label: 47\\u003cbr\\u003ePartial cluster label: -1\\u003cbr\\u003eNode size: 1\\u003cbr\\u003eSummary statistic: 46.0\",\"Node ID: 43\\u003cbr\\u003ePullback set label: 22\\u003cbr\\u003ePartial cluster label: -1\\u003cbr\\u003eNode size: 3\\u003cbr\\u003eSummary statistic: 73.0\",\"Node ID: 44\\u003cbr\\u003ePullback set label: 15\\u003cbr\\u003ePartial cluster label: -1\\u003cbr\\u003eNode size: 1\\u003cbr\\u003eSummary statistic: 49.0\",\"Node ID: 45\\u003cbr\\u003ePullback set label: 57\\u003cbr\\u003ePartial cluster label: -1\\u003cbr\\u003eNode size: 1\\u003cbr\\u003eSummary statistic: 51.0\",\"Node ID: 46\\u003cbr\\u003ePullback set label: 6\\u003cbr\\u003ePartial cluster label: -1\\u003cbr\\u003eNode size: 4\\u003cbr\\u003eSummary statistic: 90.2\",\"Node ID: 47\\u003cbr\\u003ePullback set label: 37\\u003cbr\\u003ePartial cluster label: -1\\u003cbr\\u003eNode size: 3\\u003cbr\\u003eSummary statistic: 62.0\",\"Node ID: 48\\u003cbr\\u003ePullback set label: 43\\u003cbr\\u003ePartial cluster label: -1\\u003cbr\\u003eNode size: 2\\u003cbr\\u003eSummary statistic: 68.0\",\"Node ID: 49\\u003cbr\\u003ePullback set label: 17\\u003cbr\\u003ePartial cluster label: -1\\u003cbr\\u003eNode size: 1\\u003cbr\\u003eSummary statistic: 56.0\",\"Node ID: 50\\u003cbr\\u003ePullback set label: 24\\u003cbr\\u003ePartial cluster label: -1\\u003cbr\\u003eNode size: 2\\u003cbr\\u003eSummary statistic: 62.0\",\"Node ID: 51\\u003cbr\\u003ePullback set label: 49\\u003cbr\\u003ePartial cluster label: -1\\u003cbr\\u003eNode size: 1\\u003cbr\\u003eSummary statistic: 57.0\",\"Node ID: 52\\u003cbr\\u003ePullback set label: 16\\u003cbr\\u003ePartial cluster label: -1\\u003cbr\\u003eNode size: 1\\u003cbr\\u003eSummary statistic: 58.0\",\"Node ID: 53\\u003cbr\\u003ePullback set label: 23\\u003cbr\\u003ePartial cluster label: -1\\u003cbr\\u003eNode size: 3\\u003cbr\\u003eSummary statistic: 79.0\",\"Node ID: 54\\u003cbr\\u003ePullback set label: 46\\u003cbr\\u003ePartial cluster label: -1\\u003cbr\\u003eNode size: 1\\u003cbr\\u003eSummary statistic: 63.0\",\"Node ID: 55\\u003cbr\\u003ePullback set label: 9\\u003cbr\\u003ePartial cluster label: -1\\u003cbr\\u003eNode size: 3\\u003cbr\\u003eSummary statistic: 76.7\",\"Node ID: 56\\u003cbr\\u003ePullback set label: 13\\u003cbr\\u003ePartial cluster label: -1\\u003cbr\\u003eNode size: 1\\u003cbr\\u003eSummary statistic: 66.0\",\"Node ID: 57\\u003cbr\\u003ePullback set label: 14\\u003cbr\\u003ePartial cluster label: -1\\u003cbr\\u003eNode size: 2\\u003cbr\\u003eSummary statistic: 87.0\",\"Node ID: 58\\u003cbr\\u003ePullback set label: 38\\u003cbr\\u003ePartial cluster label: -1\\u003cbr\\u003eNode size: 4\\u003cbr\\u003eSummary statistic: 85.5\",\"Node ID: 59\\u003cbr\\u003ePullback set label: 58\\u003cbr\\u003ePartial cluster label: -1\\u003cbr\\u003eNode size: 2\\u003cbr\\u003eSummary statistic: 88.5\",\"Node ID: 60\\u003cbr\\u003ePullback set label: 65\\u003cbr\\u003ePartial cluster label: -1\\u003cbr\\u003eNode size: 1\\u003cbr\\u003eSummary statistic: 70.0\",\"Node ID: 61\\u003cbr\\u003ePullback set label: 28\\u003cbr\\u003ePartial cluster label: -1\\u003cbr\\u003eNode size: 2\\u003cbr\\u003eSummary statistic: 88.5\",\"Node ID: 62\\u003cbr\\u003ePullback set label: 5\\u003cbr\\u003ePartial cluster label: -1\\u003cbr\\u003eNode size: 1\\u003cbr\\u003eSummary statistic: 87.0\",\"Node ID: 63\\u003cbr\\u003ePullback set label: 32\\u003cbr\\u003ePartial cluster label: -1\\u003cbr\\u003eNode size: 2\\u003cbr\\u003eSummary statistic: 90.0\",\"Node ID: 64\\u003cbr\\u003ePullback set label: 54\\u003cbr\\u003ePartial cluster label: -1\\u003cbr\\u003eNode size: 1\\u003cbr\\u003eSummary statistic: 98.0\",\"Node ID: 65\\u003cbr\\u003ePullback set label: 7\\u003cbr\\u003ePartial cluster label: -1\\u003cbr\\u003eNode size: 1\\u003cbr\\u003eSummary statistic: 105.0\"],\"marker\":{\"color\":[28.5,37.2,56.666666666666664,35.0,3.0,48.0,44.25,69.75,35.0,59.5,44.666666666666664,56.75,68.0,54.285714285714285,12.0,42.0,48.5,74.0,47.333333333333336,63.714285714285715,21.0,42.0,28.5,45.333333333333336,49.666666666666664,33.0,61.5,29.0,56.6,44.0,36.0,76.0,56.5,37.5,38.0,39.0,41.0,66.0,67.8,53.0,63.0,45.0,46.0,73.0,49.0,51.0,90.25,62.0,68.0,56.0,62.0,57.0,58.0,79.0,63.0,76.66666666666667,66.0,87.0,85.5,88.5,70.0,88.5,87.0,90.0,98.0,105.0],\"colorbar\":{\"thickness\":15,\"title\":{\"side\":\"right\",\"text\":\"\"},\"xanchor\":\"left\"},\"colorscale\":[[0.0,\"#440154\"],[0.1111111111111111,\"#482878\"],[0.2222222222222222,\"#3e4989\"],[0.3333333333333333,\"#31688e\"],[0.4444444444444444,\"#26828e\"],[0.5555555555555556,\"#1f9e89\"],[0.6666666666666666,\"#35b779\"],[0.7777777777777778,\"#6ece58\"],[0.8888888888888888,\"#b5de2b\"],[1.0,\"#fde725\"]],\"line\":{\"color\":\"#888\",\"width\":1},\"opacity\":1.0,\"reversescale\":false,\"showscale\":true,\"size\":[2,5,3,2,1,4,4,4,2,6,3,4,3,7,1,2,4,4,3,7,1,4,2,3,3,2,2,1,5,2,2,3,2,2,1,1,1,3,5,2,2,1,1,3,1,1,4,3,2,1,2,1,1,3,1,3,1,2,4,2,1,2,1,2,1,1],\"sizemin\":4,\"sizemode\":\"area\",\"sizeref\":0.09722222222222222},\"mode\":\"markers\",\"name\":\"node_trace\",\"x\":[2.9059998116196564,0.9995946767306867,6.980965497437037,5.735502445248489,0.37897729868498925,-4.465903029877375,4.490147242551583,4.589922008319068,-0.19335587870727036,3.2179439113413117,3.0813983459117313,-2.251727199626967,1.3401266241887577,-0.4767164766599381,1.7739687205956929,4.78682815883665,-1.9164066135478661,5.924534064352728,-5.037120702359279,-4.629419328249723,6.3001133542221455,-5.267708079442381,-0.08532086630612153,-3.665283487146923,0.10282096658292668,-4.4163845048885175,-3.3187936694377522,-2.342888847201234,-3.671728768692281,1.6686029392659831,-3.3367932710652486,3.294884859882296,-3.3509292359843923,-3.873267405333827,-5.013769950857908,-1.4004523329706844,-0.2335127774840791,-3.799268411323715,-5.575264446868869,-1.816186921127436,1.792026669145165,3.510626459233171,4.393466966980024,5.300408279437434,1.036869192637878,5.286401367602272,3.5703068249726337,0.5611591687185382,1.920179938203084,4.873080081950926,5.540115593384977,2.235630399857639,7.000520811566331,7.00308923349975,-0.7291990747629953,-2.402646296681267,-1.3274313971006215,0.2012537291038219,-2.3403452657969126,6.094036341985033,5.8748655053233385,2.8907969246808425,-1.3266163410229888,4.1632170105238515,-1.949542829907927,2.2995203383355136],\"y\":[-5.195121403992765,-5.734229018923326,0.7532973561624801,0.8650957272857462,-2.0806916833114455,2.93638955801431,4.459900633339527,3.1737108424743012,-3.689116576858949,4.109719527028188,5.402839090079825,2.1887111806798054,-0.33739728982410044,5.409365085218893,1.9796858013693115,1.7281687270103645,3.4719143932776717,-1.8590490066283718,-0.44262017088200467,1.4615466040114147,-3.47787395073507,-1.549355300376296,2.426973453643019,-2.722918512411141,0.7771524102941882,-3.9734466447401844,3.7674512223468177,4.915901987606834,2.4951292634189115,-4.488558754660826,-5.227852066916324,2.738899984302465,-4.20158134011419,-1.2887124151558458,-2.8453004255904073,-6.367435313541397,-6.63763802572536,0.2821050967548813,0.655425888970515,-4.01777802307282,3.88784804487097,-6.228168008669759,-5.426787158828172,-4.879627145859621,-6.855527923646301,-3.896052225654925,-3.614588403309549,5.625371271483945,5.224568408502076,-2.0239048008149343,-0.4487817579735346,-6.436207307120385,-2.1239188385142547,-0.5684106221617542,-5.244995533888491,0.6661017007582218,4.785190956162395,4.232580098162915,-5.7693574623844395,2.1544869245637166,3.335750870036241,0.2862071765603037,-0.497644952740602,-1.170009256141884,-2.1803613967076827,-2.5306908429226476],\"type\":\"scatter\",\"uid\":\"7a895ba8-704a-410d-a5b2-7dbf052b96be\"}],                        {\"autosize\":false,\"hovermode\":\"closest\",\"margin\":{\"b\":20,\"l\":5,\"r\":5,\"t\":40},\"showlegend\":false,\"template\":{\"data\":{\"barpolar\":[{\"marker\":{\"line\":{\"color\":\"white\",\"width\":0.5},\"pattern\":{\"fillmode\":\"overlay\",\"size\":10,\"solidity\":0.2}},\"type\":\"barpolar\"}],\"bar\":[{\"error_x\":{\"color\":\"rgb(36,36,36)\"},\"error_y\":{\"color\":\"rgb(36,36,36)\"},\"marker\":{\"line\":{\"color\":\"white\",\"width\":0.5},\"pattern\":{\"fillmode\":\"overlay\",\"size\":10,\"solidity\":0.2}},\"type\":\"bar\"}],\"carpet\":[{\"aaxis\":{\"endlinecolor\":\"rgb(36,36,36)\",\"gridcolor\":\"white\",\"linecolor\":\"white\",\"minorgridcolor\":\"white\",\"startlinecolor\":\"rgb(36,36,36)\"},\"baxis\":{\"endlinecolor\":\"rgb(36,36,36)\",\"gridcolor\":\"white\",\"linecolor\":\"white\",\"minorgridcolor\":\"white\",\"startlinecolor\":\"rgb(36,36,36)\"},\"type\":\"carpet\"}],\"choropleth\":[{\"colorbar\":{\"outlinewidth\":1,\"tickcolor\":\"rgb(36,36,36)\",\"ticks\":\"outside\"},\"type\":\"choropleth\"}],\"contourcarpet\":[{\"colorbar\":{\"outlinewidth\":1,\"tickcolor\":\"rgb(36,36,36)\",\"ticks\":\"outside\"},\"type\":\"contourcarpet\"}],\"contour\":[{\"colorbar\":{\"outlinewidth\":1,\"tickcolor\":\"rgb(36,36,36)\",\"ticks\":\"outside\"},\"colorscale\":[[0.0,\"#440154\"],[0.1111111111111111,\"#482878\"],[0.2222222222222222,\"#3e4989\"],[0.3333333333333333,\"#31688e\"],[0.4444444444444444,\"#26828e\"],[0.5555555555555556,\"#1f9e89\"],[0.6666666666666666,\"#35b779\"],[0.7777777777777778,\"#6ece58\"],[0.8888888888888888,\"#b5de2b\"],[1.0,\"#fde725\"]],\"type\":\"contour\"}],\"heatmapgl\":[{\"colorbar\":{\"outlinewidth\":1,\"tickcolor\":\"rgb(36,36,36)\",\"ticks\":\"outside\"},\"colorscale\":[[0.0,\"#440154\"],[0.1111111111111111,\"#482878\"],[0.2222222222222222,\"#3e4989\"],[0.3333333333333333,\"#31688e\"],[0.4444444444444444,\"#26828e\"],[0.5555555555555556,\"#1f9e89\"],[0.6666666666666666,\"#35b779\"],[0.7777777777777778,\"#6ece58\"],[0.8888888888888888,\"#b5de2b\"],[1.0,\"#fde725\"]],\"type\":\"heatmapgl\"}],\"heatmap\":[{\"colorbar\":{\"outlinewidth\":1,\"tickcolor\":\"rgb(36,36,36)\",\"ticks\":\"outside\"},\"colorscale\":[[0.0,\"#440154\"],[0.1111111111111111,\"#482878\"],[0.2222222222222222,\"#3e4989\"],[0.3333333333333333,\"#31688e\"],[0.4444444444444444,\"#26828e\"],[0.5555555555555556,\"#1f9e89\"],[0.6666666666666666,\"#35b779\"],[0.7777777777777778,\"#6ece58\"],[0.8888888888888888,\"#b5de2b\"],[1.0,\"#fde725\"]],\"type\":\"heatmap\"}],\"histogram2dcontour\":[{\"colorbar\":{\"outlinewidth\":1,\"tickcolor\":\"rgb(36,36,36)\",\"ticks\":\"outside\"},\"colorscale\":[[0.0,\"#440154\"],[0.1111111111111111,\"#482878\"],[0.2222222222222222,\"#3e4989\"],[0.3333333333333333,\"#31688e\"],[0.4444444444444444,\"#26828e\"],[0.5555555555555556,\"#1f9e89\"],[0.6666666666666666,\"#35b779\"],[0.7777777777777778,\"#6ece58\"],[0.8888888888888888,\"#b5de2b\"],[1.0,\"#fde725\"]],\"type\":\"histogram2dcontour\"}],\"histogram2d\":[{\"colorbar\":{\"outlinewidth\":1,\"tickcolor\":\"rgb(36,36,36)\",\"ticks\":\"outside\"},\"colorscale\":[[0.0,\"#440154\"],[0.1111111111111111,\"#482878\"],[0.2222222222222222,\"#3e4989\"],[0.3333333333333333,\"#31688e\"],[0.4444444444444444,\"#26828e\"],[0.5555555555555556,\"#1f9e89\"],[0.6666666666666666,\"#35b779\"],[0.7777777777777778,\"#6ece58\"],[0.8888888888888888,\"#b5de2b\"],[1.0,\"#fde725\"]],\"type\":\"histogram2d\"}],\"histogram\":[{\"marker\":{\"line\":{\"color\":\"white\",\"width\":0.6}},\"type\":\"histogram\"}],\"mesh3d\":[{\"colorbar\":{\"outlinewidth\":1,\"tickcolor\":\"rgb(36,36,36)\",\"ticks\":\"outside\"},\"type\":\"mesh3d\"}],\"parcoords\":[{\"line\":{\"colorbar\":{\"outlinewidth\":1,\"tickcolor\":\"rgb(36,36,36)\",\"ticks\":\"outside\"}},\"type\":\"parcoords\"}],\"pie\":[{\"automargin\":true,\"type\":\"pie\"}],\"scatter3d\":[{\"line\":{\"colorbar\":{\"outlinewidth\":1,\"tickcolor\":\"rgb(36,36,36)\",\"ticks\":\"outside\"}},\"marker\":{\"colorbar\":{\"outlinewidth\":1,\"tickcolor\":\"rgb(36,36,36)\",\"ticks\":\"outside\"}},\"type\":\"scatter3d\"}],\"scattercarpet\":[{\"marker\":{\"colorbar\":{\"outlinewidth\":1,\"tickcolor\":\"rgb(36,36,36)\",\"ticks\":\"outside\"}},\"type\":\"scattercarpet\"}],\"scattergeo\":[{\"marker\":{\"colorbar\":{\"outlinewidth\":1,\"tickcolor\":\"rgb(36,36,36)\",\"ticks\":\"outside\"}},\"type\":\"scattergeo\"}],\"scattergl\":[{\"marker\":{\"colorbar\":{\"outlinewidth\":1,\"tickcolor\":\"rgb(36,36,36)\",\"ticks\":\"outside\"}},\"type\":\"scattergl\"}],\"scattermapbox\":[{\"marker\":{\"colorbar\":{\"outlinewidth\":1,\"tickcolor\":\"rgb(36,36,36)\",\"ticks\":\"outside\"}},\"type\":\"scattermapbox\"}],\"scatterpolargl\":[{\"marker\":{\"colorbar\":{\"outlinewidth\":1,\"tickcolor\":\"rgb(36,36,36)\",\"ticks\":\"outside\"}},\"type\":\"scatterpolargl\"}],\"scatterpolar\":[{\"marker\":{\"colorbar\":{\"outlinewidth\":1,\"tickcolor\":\"rgb(36,36,36)\",\"ticks\":\"outside\"}},\"type\":\"scatterpolar\"}],\"scatter\":[{\"fillpattern\":{\"fillmode\":\"overlay\",\"size\":10,\"solidity\":0.2},\"type\":\"scatter\"}],\"scatterternary\":[{\"marker\":{\"colorbar\":{\"outlinewidth\":1,\"tickcolor\":\"rgb(36,36,36)\",\"ticks\":\"outside\"}},\"type\":\"scatterternary\"}],\"surface\":[{\"colorbar\":{\"outlinewidth\":1,\"tickcolor\":\"rgb(36,36,36)\",\"ticks\":\"outside\"},\"colorscale\":[[0.0,\"#440154\"],[0.1111111111111111,\"#482878\"],[0.2222222222222222,\"#3e4989\"],[0.3333333333333333,\"#31688e\"],[0.4444444444444444,\"#26828e\"],[0.5555555555555556,\"#1f9e89\"],[0.6666666666666666,\"#35b779\"],[0.7777777777777778,\"#6ece58\"],[0.8888888888888888,\"#b5de2b\"],[1.0,\"#fde725\"]],\"type\":\"surface\"}],\"table\":[{\"cells\":{\"fill\":{\"color\":\"rgb(237,237,237)\"},\"line\":{\"color\":\"white\"}},\"header\":{\"fill\":{\"color\":\"rgb(217,217,217)\"},\"line\":{\"color\":\"white\"}},\"type\":\"table\"}]},\"layout\":{\"annotationdefaults\":{\"arrowhead\":0,\"arrowwidth\":1},\"autotypenumbers\":\"strict\",\"coloraxis\":{\"colorbar\":{\"outlinewidth\":1,\"tickcolor\":\"rgb(36,36,36)\",\"ticks\":\"outside\"}},\"colorscale\":{\"diverging\":[[0.0,\"rgb(103,0,31)\"],[0.1,\"rgb(178,24,43)\"],[0.2,\"rgb(214,96,77)\"],[0.3,\"rgb(244,165,130)\"],[0.4,\"rgb(253,219,199)\"],[0.5,\"rgb(247,247,247)\"],[0.6,\"rgb(209,229,240)\"],[0.7,\"rgb(146,197,222)\"],[0.8,\"rgb(67,147,195)\"],[0.9,\"rgb(33,102,172)\"],[1.0,\"rgb(5,48,97)\"]],\"sequential\":[[0.0,\"#440154\"],[0.1111111111111111,\"#482878\"],[0.2222222222222222,\"#3e4989\"],[0.3333333333333333,\"#31688e\"],[0.4444444444444444,\"#26828e\"],[0.5555555555555556,\"#1f9e89\"],[0.6666666666666666,\"#35b779\"],[0.7777777777777778,\"#6ece58\"],[0.8888888888888888,\"#b5de2b\"],[1.0,\"#fde725\"]],\"sequentialminus\":[[0.0,\"#440154\"],[0.1111111111111111,\"#482878\"],[0.2222222222222222,\"#3e4989\"],[0.3333333333333333,\"#31688e\"],[0.4444444444444444,\"#26828e\"],[0.5555555555555556,\"#1f9e89\"],[0.6666666666666666,\"#35b779\"],[0.7777777777777778,\"#6ece58\"],[0.8888888888888888,\"#b5de2b\"],[1.0,\"#fde725\"]]},\"colorway\":[\"#1F77B4\",\"#FF7F0E\",\"#2CA02C\",\"#D62728\",\"#9467BD\",\"#8C564B\",\"#E377C2\",\"#7F7F7F\",\"#BCBD22\",\"#17BECF\"],\"font\":{\"color\":\"rgb(36,36,36)\"},\"geo\":{\"bgcolor\":\"white\",\"lakecolor\":\"white\",\"landcolor\":\"white\",\"showlakes\":true,\"showland\":true,\"subunitcolor\":\"white\"},\"hoverlabel\":{\"align\":\"left\"},\"hovermode\":\"closest\",\"mapbox\":{\"style\":\"light\"},\"paper_bgcolor\":\"white\",\"plot_bgcolor\":\"white\",\"polar\":{\"angularaxis\":{\"gridcolor\":\"rgb(232,232,232)\",\"linecolor\":\"rgb(36,36,36)\",\"showgrid\":false,\"showline\":true,\"ticks\":\"outside\"},\"bgcolor\":\"white\",\"radialaxis\":{\"gridcolor\":\"rgb(232,232,232)\",\"linecolor\":\"rgb(36,36,36)\",\"showgrid\":false,\"showline\":true,\"ticks\":\"outside\"}},\"scene\":{\"xaxis\":{\"backgroundcolor\":\"white\",\"gridcolor\":\"rgb(232,232,232)\",\"gridwidth\":2,\"linecolor\":\"rgb(36,36,36)\",\"showbackground\":true,\"showgrid\":false,\"showline\":true,\"ticks\":\"outside\",\"zeroline\":false,\"zerolinecolor\":\"rgb(36,36,36)\"},\"yaxis\":{\"backgroundcolor\":\"white\",\"gridcolor\":\"rgb(232,232,232)\",\"gridwidth\":2,\"linecolor\":\"rgb(36,36,36)\",\"showbackground\":true,\"showgrid\":false,\"showline\":true,\"ticks\":\"outside\",\"zeroline\":false,\"zerolinecolor\":\"rgb(36,36,36)\"},\"zaxis\":{\"backgroundcolor\":\"white\",\"gridcolor\":\"rgb(232,232,232)\",\"gridwidth\":2,\"linecolor\":\"rgb(36,36,36)\",\"showbackground\":true,\"showgrid\":false,\"showline\":true,\"ticks\":\"outside\",\"zeroline\":false,\"zerolinecolor\":\"rgb(36,36,36)\"}},\"shapedefaults\":{\"fillcolor\":\"black\",\"line\":{\"width\":0},\"opacity\":0.3},\"ternary\":{\"aaxis\":{\"gridcolor\":\"rgb(232,232,232)\",\"linecolor\":\"rgb(36,36,36)\",\"showgrid\":false,\"showline\":true,\"ticks\":\"outside\"},\"baxis\":{\"gridcolor\":\"rgb(232,232,232)\",\"linecolor\":\"rgb(36,36,36)\",\"showgrid\":false,\"showline\":true,\"ticks\":\"outside\"},\"bgcolor\":\"white\",\"caxis\":{\"gridcolor\":\"rgb(232,232,232)\",\"linecolor\":\"rgb(36,36,36)\",\"showgrid\":false,\"showline\":true,\"ticks\":\"outside\"}},\"title\":{\"x\":0.05},\"xaxis\":{\"automargin\":true,\"gridcolor\":\"rgb(232,232,232)\",\"linecolor\":\"rgb(36,36,36)\",\"showgrid\":false,\"showline\":true,\"ticks\":\"outside\",\"title\":{\"standoff\":15},\"zeroline\":false,\"zerolinecolor\":\"rgb(36,36,36)\"},\"yaxis\":{\"automargin\":true,\"gridcolor\":\"rgb(232,232,232)\",\"linecolor\":\"rgb(36,36,36)\",\"showgrid\":false,\"showline\":true,\"ticks\":\"outside\",\"title\":{\"standoff\":15},\"zeroline\":false,\"zerolinecolor\":\"rgb(36,36,36)\"}}},\"title\":{\"text\":\"\"},\"xaxis\":{\"showgrid\":false,\"showline\":false,\"showticklabels\":false,\"ticks\":\"\",\"title\":{\"text\":\"\"},\"zeroline\":false},\"yaxis\":{\"showgrid\":false,\"showline\":false,\"showticklabels\":false,\"ticks\":\"\",\"title\":{\"text\":\"\"},\"zeroline\":false}},                        {\"scrollZoom\": true, \"responsive\": true}                    ).then(function(){\n",
       "                            \n",
       "var gd = document.getElementById('591dcadb-bbff-43bd-bdc9-44ce76df2b04');\n",
       "var x = new MutationObserver(function (mutations, observer) {{\n",
       "        var display = window.getComputedStyle(gd).display;\n",
       "        if (!display || display === 'none') {{\n",
       "            console.log([gd, 'removed!']);\n",
       "            Plotly.purge(gd);\n",
       "            observer.disconnect();\n",
       "        }}\n",
       "}});\n",
       "\n",
       "// Listen for the removal of the full notebook cells\n",
       "var notebookContainer = gd.closest('#notebook-container');\n",
       "if (notebookContainer) {{\n",
       "    x.observe(notebookContainer, {childList: true});\n",
       "}}\n",
       "\n",
       "// Listen for the clearing of the current output cell\n",
       "var outputEl = gd.closest('.output');\n",
       "if (outputEl) {{\n",
       "    x.observe(outputEl, {childList: true});\n",
       "}}\n",
       "\n",
       "                        })                };                });            </script>        </div>"
      ]
     },
     "metadata": {},
     "output_type": "display_data"
    }
   ],
   "source": [
    "# Define filter function\n",
    "\n",
    "# TDA magic\n",
    "import umap\n",
    "\n",
    "from gtda.mapper import (\n",
    "    CubicalCover,\n",
    "    make_mapper_pipeline,\n",
    "    Projection,\n",
    "    plot_static_mapper_graph,\n",
    "    plot_interactive_mapper_graph,\n",
    "    MapperInteractivePlotter\n",
    ")\n",
    "\n",
    "filter_func = umap.UMAP(n_neighbors=5) \n",
    "# Define cover\n",
    "cover = CubicalCover(kind='balanced', n_intervals=10, overlap_frac=0.2)\n",
    "# Choose clustering algorithm \n",
    "clusterer = DBSCAN(eps=0.085)\n",
    "# Initialise pipeline\n",
    "pipe = make_mapper_pipeline(\n",
    "    filter_func=filter_func,\n",
    "    cover=cover,\n",
    "    clusterer=clusterer,\n",
    "    verbose=True,\n",
    "    n_jobs=-1,\n",
    ")\n",
    "# Plot Mapper graph\n",
    "fig = plot_static_mapper_graph(pipe, X)\n",
    "fig.show(config={'scrollZoom': True})"
   ]
  }
 ],
 "metadata": {
  "kernelspec": {
   "display_name": "Python 3 (ipykernel)",
   "language": "python",
   "name": "python3"
  },
  "language_info": {
   "codemirror_mode": {
    "name": "ipython",
    "version": 3
   },
   "file_extension": ".py",
   "mimetype": "text/x-python",
   "name": "python",
   "nbconvert_exporter": "python",
   "pygments_lexer": "ipython3",
   "version": "3.9.16"
  }
 },
 "nbformat": 4,
 "nbformat_minor": 5
}
