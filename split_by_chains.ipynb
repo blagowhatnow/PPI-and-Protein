{
 "cells": [
  {
   "cell_type": "code",
   "execution_count": 53,
   "id": "40ef73ed",
   "metadata": {},
   "outputs": [
    {
     "data": {
      "application/vnd.jupyter.widget-view+json": {
       "model_id": "7006c7591d1c4c28a29ed5fe636f34df",
       "version_major": 2,
       "version_minor": 0
      },
      "text/plain": [
       "NGLWidget()"
      ]
     },
     "metadata": {},
     "output_type": "display_data"
    }
   ],
   "source": [
    "import nglview as nv\n",
    "view = nv.show_structure_file(\"pdb_file_chain_A.pdb\")\n",
    "view"
   ]
  },
  {
   "cell_type": "code",
   "execution_count": 50,
   "id": "19cb6ddb",
   "metadata": {},
   "outputs": [
    {
     "name": "stderr",
     "output_type": "stream",
     "text": [
      "/opt/miniconda3/envs/python2/lib/python3.7/site-packages/Bio/PDB/PDBParser.py:399: PDBConstructionWarning: Ignoring unrecognized record 'TER' at line 450\n",
      "  PDBConstructionWarning,\n",
      "/opt/miniconda3/envs/python2/lib/python3.7/site-packages/Bio/PDB/PDBParser.py:399: PDBConstructionWarning: Ignoring unrecognized record 'END' at line 901\n",
      "  PDBConstructionWarning,\n"
     ]
    }
   ],
   "source": [
    "pdb_file=\"t.pdb\"\n",
    "\n",
    "from Bio.PDB import Select, PDBIO\n",
    "from Bio.PDB.PDBParser import PDBParser\n",
    "\n",
    "class ChainSelect(Select):\n",
    "    def __init__(self, chain):\n",
    "        self.chain = chain\n",
    "\n",
    "    def accept_chain(self, chain):\n",
    "        if chain.get_id() == self.chain:\n",
    "            return 1\n",
    "        else:          \n",
    "            return 0\n",
    "\n",
    "chains = ['A','B']\n",
    "p = PDBParser(PERMISSIVE=1)       \n",
    "structure = p.get_structure(pdb_file, pdb_file)\n",
    "\n",
    "for chain in chains:\n",
    "    pdb_chain_file = 'pdb_file_chain_{}.pdb'.format(chain)                                 \n",
    "    io_w_no_h = PDBIO()               \n",
    "    io_w_no_h.set_structure(structure)\n",
    "    io_w_no_h.save('{}'.format(pdb_chain_file), ChainSelect(chain))"
   ]
  }
 ],
 "metadata": {
  "kernelspec": {
   "display_name": "Python 3 (ipykernel)",
   "language": "python",
   "name": "python3"
  },
  "language_info": {
   "codemirror_mode": {
    "name": "ipython",
    "version": 3
   },
   "file_extension": ".py",
   "mimetype": "text/x-python",
   "name": "python",
   "nbconvert_exporter": "python",
   "pygments_lexer": "ipython3",
   "version": "3.7.13"
  }
 },
 "nbformat": 4,
 "nbformat_minor": 5
}
